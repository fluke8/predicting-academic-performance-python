{
 "cells": [
  {
   "cell_type": "code",
   "execution_count": 19,
   "metadata": {},
   "outputs": [],
   "source": [
    "import pandas as pd\n",
    "from ydata_profiling import ProfileReport"
   ]
  },
  {
   "cell_type": "code",
   "execution_count": 24,
   "metadata": {},
   "outputs": [],
   "source": [
    "df = pd.read_csv('csv/uspevaemost.csv', encoding='cp1251')\n",
    "\n",
    "df = df[df['Квалификация'] == 'Бакалавр']"
   ]
  },
  {
   "cell_type": "code",
   "execution_count": 21,
   "metadata": {},
   "outputs": [],
   "source": [
    "# df['Студент'].nunique()"
   ]
  },
  {
   "cell_type": "code",
   "execution_count": 22,
   "metadata": {},
   "outputs": [],
   "source": [
    "df = df[(df['Студент'] == '42477A384446554E566E55587779514855326A5674413D3D') & (df['Учебный год'] == '2011/2012')]\n",
    "# df.sort_values(by='Учебный год')\n",
    "# df.to_csv('test1.csv', index= False)"
   ]
  },
  {
   "cell_type": "code",
   "execution_count": 23,
   "metadata": {},
   "outputs": [
    {
     "data": {
      "text/html": [
       "<div>\n",
       "<style scoped>\n",
       "    .dataframe tbody tr th:only-of-type {\n",
       "        vertical-align: middle;\n",
       "    }\n",
       "\n",
       "    .dataframe tbody tr th {\n",
       "        vertical-align: top;\n",
       "    }\n",
       "\n",
       "    .dataframe thead th {\n",
       "        text-align: right;\n",
       "    }\n",
       "</style>\n",
       "<table border=\"1\" class=\"dataframe\">\n",
       "  <thead>\n",
       "    <tr style=\"text-align: right;\">\n",
       "      <th></th>\n",
       "      <th></th>\n",
       "      <th>Оценка</th>\n",
       "      <th>2</th>\n",
       "      <th>3</th>\n",
       "    </tr>\n",
       "    <tr>\n",
       "      <th>Студент</th>\n",
       "      <th>Семестр</th>\n",
       "      <th>Учебный год</th>\n",
       "      <th></th>\n",
       "      <th></th>\n",
       "    </tr>\n",
       "  </thead>\n",
       "  <tbody>\n",
       "    <tr>\n",
       "      <th rowspan=\"2\" valign=\"top\">42477A384446554E566E55587779514855326A5674413D3D</th>\n",
       "      <th>1</th>\n",
       "      <th>2011/2012</th>\n",
       "      <td>5</td>\n",
       "      <td>4</td>\n",
       "    </tr>\n",
       "    <tr>\n",
       "      <th>2</th>\n",
       "      <th>2011/2012</th>\n",
       "      <td>4</td>\n",
       "      <td>4</td>\n",
       "    </tr>\n",
       "  </tbody>\n",
       "</table>\n",
       "</div>"
      ],
      "text/plain": [
       "Оценка                                                                2  3\n",
       "Студент                                          Семестр Учебный год      \n",
       "42477A384446554E566E55587779514855326A5674413D3D 1       2011/2012    5  4\n",
       "                                                 2       2011/2012    4  4"
      ]
     },
     "execution_count": 23,
     "metadata": {},
     "output_type": "execute_result"
    }
   ],
   "source": [
    "df = df[~(df['Оценка'] == 'неудовлетворительно') | ~(df.duplicated(subset=df.columns.difference(['Оценка']))) ]\n",
    "\n",
    "df['Оценка'] = df['Оценка'].map({\n",
    "    'отлично': 5,\n",
    "    'хорошо': 4,\n",
    "    'удовлетворительно': 3,\n",
    "    'зачтено': 2, \n",
    "    'незачет': 1 \n",
    "})\n",
    "\n",
    "df.drop(columns=['Группа', \"Дисциплина\", \"Специальность\", \"Форма обучения\", \"Квалификация\", \"Статус\"], inplace=True)\n",
    "\n",
    "df = df.groupby(['Студент', 'Семестр', 'Учебный год'], as_index=True)['Оценка'].value_counts().unstack(fill_value=0)\n",
    "\n",
    "\n",
    "df.head()"
   ]
  },
  {
   "cell_type": "code",
   "execution_count": 41,
   "metadata": {},
   "outputs": [
    {
     "data": {
      "text/html": [
       "<div>\n",
       "<style scoped>\n",
       "    .dataframe tbody tr th:only-of-type {\n",
       "        vertical-align: middle;\n",
       "    }\n",
       "\n",
       "    .dataframe tbody tr th {\n",
       "        vertical-align: top;\n",
       "    }\n",
       "\n",
       "    .dataframe thead th {\n",
       "        text-align: right;\n",
       "    }\n",
       "</style>\n",
       "<table border=\"1\" class=\"dataframe\">\n",
       "  <thead>\n",
       "    <tr style=\"text-align: right;\">\n",
       "      <th></th>\n",
       "      <th>Группа</th>\n",
       "    </tr>\n",
       "    <tr>\n",
       "      <th>Студент</th>\n",
       "      <th></th>\n",
       "    </tr>\n",
       "  </thead>\n",
       "  <tbody>\n",
       "  </tbody>\n",
       "</table>\n",
       "</div>"
      ],
      "text/plain": [
       "Empty DataFrame\n",
       "Columns: [Группа]\n",
       "Index: []"
      ]
     },
     "execution_count": 41,
     "metadata": {},
     "output_type": "execute_result"
    }
   ],
   "source": [
    "(df.groupby(['Студент']).agg({'Группа': 'nunique'})[\"Группа\"] > 1).sum()\n",
    "df = df.groupby(['Студент']).agg({'Группа': 'nunique'})\n",
    "df[df['Группа'] != 1]"
   ]
  },
  {
   "cell_type": "code",
   "execution_count": 25,
   "metadata": {},
   "outputs": [
    {
     "name": "stdout",
     "output_type": "stream",
     "text": [
      "(2714,)\n"
     ]
    },
    {
     "data": {
      "text/plain": [
       "2009"
      ]
     },
     "execution_count": 25,
     "metadata": {},
     "output_type": "execute_result"
    }
   ],
   "source": [
    "df['sem_start'] = df['Учебный год'].str[:4]\n",
    "df['sem_end'] = df['Учебный год'].str[5:]\n",
    "\n",
    "df_years = df.groupby(['Студент']).agg({'sem_start': 'min', 'sem_end': 'max'})\n",
    "\n",
    "df_kol_let = (df_years['sem_end']).astype('int16') - (df_years['sem_start']).astype('int16')\n",
    "print(df_kol_let.shape)\n",
    "(df_kol_let <= 4).sum()"
   ]
  },
  {
   "cell_type": "code",
   "execution_count": 26,
   "metadata": {},
   "outputs": [
    {
     "data": {
      "text/plain": [
       "Студент\n",
       "2B2F3765476B77595568664E4B614C4F6A4E4B7167413D3D    True\n",
       "2B2F397249583175764B6A74722B373239642F7053413D3D    True\n",
       "2B2F594F58715179766342613567424C58306B4776513D3D    True\n",
       "2B3242586235356D525A677A493141454B34667249413D3D    True\n",
       "2B3272765979562B38442B4363364B4A396B527475413D3D    True\n",
       "                                                    ... \n",
       "7A7850434F2B6B727242494A44694F6B4B79563143413D3D    True\n",
       "7A79364932442B444567536D6A752B5446324C5853513D3D    True\n",
       "7A7A38456B32345073425950566354506C2F4E3949773D3D    True\n",
       "7A7A54716A794E562B66507A50467073345555397A413D3D    True\n",
       "7A7A634B583179437670457A6569626A356B65626D513D3D    True\n",
       "Name: Группа, Length: 4800, dtype: bool"
      ]
     },
     "execution_count": 26,
     "metadata": {},
     "output_type": "execute_result"
    }
   ],
   "source": [
    "df = df.iloc[:, :2]\n",
    "df.drop_duplicates(inplace=True)\n",
    "df.groupby(['Студент']).agg({'Группа': 'count'})[\"Группа\"] > 1"
   ]
  },
  {
   "cell_type": "code",
   "execution_count": 3,
   "metadata": {},
   "outputs": [],
   "source": [
    "df = df[df['Статус'] == 'Отчисленный']\n",
    "\n",
    "df = df[df['Квалификация'] != 'Слушатель программ довузовской подготовки']"
   ]
  },
  {
   "cell_type": "code",
   "execution_count": 4,
   "metadata": {},
   "outputs": [],
   "source": [
    "df.drop_duplicates(inplace=True)\n",
    "\n",
    "df = df[~(df['Оценка'] == 'неудовлетворительно') | ~(df.duplicated(subset=df.columns.difference(['Оценка']))) ]\n",
    "\n",
    "df['Оценка'] = df['Оценка'].map({\n",
    "    'отлично': 5,\n",
    "    'хорошо': 4,\n",
    "    'удовлетворительно': 3,\n",
    "    'зачтено': 2, \n",
    "    'незачет': 1 \n",
    "})\n",
    "\n",
    "df_bez_D = df.drop_duplicates(subset=df.columns.difference(['Оценка']), keep=False)\n",
    "\n",
    "df_s_D = df.merge(df_bez_D, indicator=True, how='outer').loc[lambda x: x['_merge'] == 'left_only'].drop(columns=['_merge']).drop_duplicates()"
   ]
  },
  {
   "cell_type": "code",
   "execution_count": 5,
   "metadata": {},
   "outputs": [],
   "source": [
    "max_indices = df_s_D.groupby(['Студент', 'Группа', 'Дисциплина', 'Семестр', 'Учебный год', 'Специальность', 'Форма обучения', 'Квалификация', 'Статус'])['Оценка'].idxmax(skipna=True)\n",
    "df_max = df_s_D.loc[max_indices]\n",
    "\n",
    "\n",
    "min_indices = df_s_D.groupby(['Студент', 'Группа', 'Дисциплина', 'Семестр', 'Учебный год', 'Специальность', 'Форма обучения', 'Квалификация', 'Статус'])['Оценка'].idxmin(skipna=True)\n",
    "df_min = df_s_D.loc[min_indices]\n"
   ]
  },
  {
   "cell_type": "code",
   "execution_count": 6,
   "metadata": {},
   "outputs": [],
   "source": [
    "df_min = df_min.groupby(['Студент', 'Группа', 'Семестр', 'Учебный год', 'Специальность', 'Форма обучения', 'Квалификация', 'Статус'], as_index=True)['Оценка'].value_counts().unstack(fill_value=0)\n",
    "df_max = df_max.groupby(['Студент', 'Группа', 'Семестр', 'Учебный год', 'Специальность', 'Форма обучения', 'Квалификация', 'Статус'], as_index=True)['Оценка'].value_counts().unstack(fill_value=0)\n",
    "df_bez_D = df_bez_D.groupby(['Студент', 'Группа', 'Семестр', 'Учебный год', 'Специальность', 'Форма обучения', 'Квалификация', 'Статус'], as_index=True)['Оценка'].value_counts().unstack(fill_value=0)"
   ]
  },
  {
   "cell_type": "code",
   "execution_count": 7,
   "metadata": {},
   "outputs": [],
   "source": [
    "\n",
    "df = pd.merge(df_bez_D, df_max, on=['Студент','Группа','Семестр','Учебный год','Специальность','Форма обучения','Квалификация','Статус'], how='outer')\n",
    "df = pd.merge(df, df_min, on=['Студент','Группа','Семестр','Учебный год','Специальность','Форма обучения','Квалификация','Статус'], how='outer')\n",
    "\n",
    "df.fillna(0, inplace=True)\n"
   ]
  },
  {
   "cell_type": "code",
   "execution_count": 8,
   "metadata": {},
   "outputs": [],
   "source": [
    "df.rename(columns={'1_x': 'незачет', '2_x': 'зачет', '3_x': 'удовлетворительно', '4_x': 'хорошо', '5_x': 'отлично', '2_y': 'зачет испр', '3_y': 'удовлетворительно испр', '4_y': 'хорошо испр', '5_y': 'отлично испр', '1_y': 'незачет до испр', 2: 'зачет до испр', 3: 'удовлетворительно до испр', 4: 'хорошо до испр'}, inplace=True)"
   ]
  },
  {
   "cell_type": "code",
   "execution_count": 9,
   "metadata": {},
   "outputs": [],
   "source": [
    "\n",
    "phrases = ['незачет', 'зачет', 'удовлетворительно', 'хорошо',\n",
    "         'отлично', 'зачет испр', 'удовлетворительно испр',\n",
    "         'хорошо испр', 'отлично испр', 'незачет до испр',\n",
    "         'зачет до испр', 'удовлетворительно до испр', 'хорошо до испр']\n",
    "\n",
    "df = df.sort_values(by=['Студент', 'Семестр'])\n",
    "for phrase in phrases:\n",
    "    df[f'Накоп {phrase}'] = df.groupby('Студент')[f'{phrase}'].cumsum()\n"
   ]
  },
  {
   "cell_type": "code",
   "execution_count": 10,
   "metadata": {},
   "outputs": [],
   "source": [
    "df['незачет'] = df['незачет'].apply(lambda x: 1 if x >= 1 else 0)\n",
    "\n",
    "df['отчислен'] = df.groupby('Студент')['незачет'].transform('max')"
   ]
  },
  {
   "cell_type": "code",
   "execution_count": 11,
   "metadata": {},
   "outputs": [],
   "source": [
    "df = df[df['незачет'] < 1]\n",
    "df = df[df['Накоп незачет'] < 1]\n",
    "\n"
   ]
  },
  {
   "cell_type": "code",
   "execution_count": 12,
   "metadata": {},
   "outputs": [],
   "source": [
    "df.to_csv('tempData.csv', index=True)\n",
    "df = pd.read_csv('tempData.csv')\n",
    "\n",
    "df['Квалификация'] = df['Квалификация'].map({\n",
    "    'Аспирант': 3,\n",
    "    'Магистр': 2,\n",
    "    'Специалист': 1,\n",
    "    'Бакалавр': 0,\n",
    "})\n",
    "\n",
    "df['Форма обучения'] = df['Форма обучения'].map({\n",
    "    'Заочная': 2,\n",
    "    'Очная': 0,\n",
    "   'Очно-заочная': 1\n",
    "})"
   ]
  },
  {
   "cell_type": "code",
   "execution_count": 13,
   "metadata": {},
   "outputs": [],
   "source": [
    "\n",
    "df.drop('Статус', axis=1, inplace=True)\n",
    "df.drop('Студент', axis=1, inplace=True)\n",
    "df.drop('Группа', axis=1, inplace=True)\n",
    "df.drop('Специальность', axis=1, inplace=True)\n",
    "df.drop('Учебный год', axis=1, inplace=True)\n",
    "# df.drop('незачет', axis=1, inplace=True)\n",
    "# df.drop('Накоп незачет', axis=1, inplace=True)\n"
   ]
  },
  {
   "cell_type": "code",
   "execution_count": 14,
   "metadata": {},
   "outputs": [],
   "source": [
    "df.to_csv('csv/dataset.csv', index=False)\n",
    "\n",
    "\n"
   ]
  },
  {
   "cell_type": "code",
   "execution_count": 15,
   "metadata": {},
   "outputs": [
    {
     "data": {
      "text/html": [
       "<div>\n",
       "<style scoped>\n",
       "    .dataframe tbody tr th:only-of-type {\n",
       "        vertical-align: middle;\n",
       "    }\n",
       "\n",
       "    .dataframe tbody tr th {\n",
       "        vertical-align: top;\n",
       "    }\n",
       "\n",
       "    .dataframe thead th {\n",
       "        text-align: right;\n",
       "    }\n",
       "</style>\n",
       "<table border=\"1\" class=\"dataframe\">\n",
       "  <thead>\n",
       "    <tr style=\"text-align: right;\">\n",
       "      <th></th>\n",
       "      <th>Семестр</th>\n",
       "      <th>Форма обучения</th>\n",
       "      <th>Квалификация</th>\n",
       "      <th>незачет</th>\n",
       "      <th>зачет</th>\n",
       "      <th>удовлетворительно</th>\n",
       "      <th>хорошо</th>\n",
       "      <th>отлично</th>\n",
       "      <th>зачет испр</th>\n",
       "      <th>удовлетворительно испр</th>\n",
       "      <th>...</th>\n",
       "      <th>Накоп отлично</th>\n",
       "      <th>Накоп зачет испр</th>\n",
       "      <th>Накоп удовлетворительно испр</th>\n",
       "      <th>Накоп хорошо испр</th>\n",
       "      <th>Накоп отлично испр</th>\n",
       "      <th>Накоп незачет до испр</th>\n",
       "      <th>Накоп зачет до испр</th>\n",
       "      <th>Накоп удовлетворительно до испр</th>\n",
       "      <th>Накоп хорошо до испр</th>\n",
       "      <th>отчислен</th>\n",
       "    </tr>\n",
       "  </thead>\n",
       "  <tbody>\n",
       "    <tr>\n",
       "      <th>0</th>\n",
       "      <td>1</td>\n",
       "      <td>2</td>\n",
       "      <td>0</td>\n",
       "      <td>0</td>\n",
       "      <td>6.0</td>\n",
       "      <td>0.0</td>\n",
       "      <td>1.0</td>\n",
       "      <td>1.0</td>\n",
       "      <td>0.0</td>\n",
       "      <td>0.0</td>\n",
       "      <td>...</td>\n",
       "      <td>1.0</td>\n",
       "      <td>0.0</td>\n",
       "      <td>0.0</td>\n",
       "      <td>0.0</td>\n",
       "      <td>0.0</td>\n",
       "      <td>0.0</td>\n",
       "      <td>0.0</td>\n",
       "      <td>0.0</td>\n",
       "      <td>0.0</td>\n",
       "      <td>0</td>\n",
       "    </tr>\n",
       "    <tr>\n",
       "      <th>1</th>\n",
       "      <td>2</td>\n",
       "      <td>2</td>\n",
       "      <td>0</td>\n",
       "      <td>0</td>\n",
       "      <td>5.0</td>\n",
       "      <td>1.0</td>\n",
       "      <td>0.0</td>\n",
       "      <td>2.0</td>\n",
       "      <td>0.0</td>\n",
       "      <td>0.0</td>\n",
       "      <td>...</td>\n",
       "      <td>3.0</td>\n",
       "      <td>0.0</td>\n",
       "      <td>0.0</td>\n",
       "      <td>1.0</td>\n",
       "      <td>0.0</td>\n",
       "      <td>0.0</td>\n",
       "      <td>0.0</td>\n",
       "      <td>1.0</td>\n",
       "      <td>0.0</td>\n",
       "      <td>0</td>\n",
       "    </tr>\n",
       "    <tr>\n",
       "      <th>2</th>\n",
       "      <td>3</td>\n",
       "      <td>2</td>\n",
       "      <td>0</td>\n",
       "      <td>0</td>\n",
       "      <td>2.0</td>\n",
       "      <td>0.0</td>\n",
       "      <td>2.0</td>\n",
       "      <td>1.0</td>\n",
       "      <td>0.0</td>\n",
       "      <td>0.0</td>\n",
       "      <td>...</td>\n",
       "      <td>4.0</td>\n",
       "      <td>0.0</td>\n",
       "      <td>0.0</td>\n",
       "      <td>2.0</td>\n",
       "      <td>0.0</td>\n",
       "      <td>0.0</td>\n",
       "      <td>0.0</td>\n",
       "      <td>2.0</td>\n",
       "      <td>0.0</td>\n",
       "      <td>0</td>\n",
       "    </tr>\n",
       "    <tr>\n",
       "      <th>3</th>\n",
       "      <td>4</td>\n",
       "      <td>2</td>\n",
       "      <td>0</td>\n",
       "      <td>0</td>\n",
       "      <td>4.0</td>\n",
       "      <td>0.0</td>\n",
       "      <td>0.0</td>\n",
       "      <td>2.0</td>\n",
       "      <td>0.0</td>\n",
       "      <td>0.0</td>\n",
       "      <td>...</td>\n",
       "      <td>6.0</td>\n",
       "      <td>0.0</td>\n",
       "      <td>0.0</td>\n",
       "      <td>2.0</td>\n",
       "      <td>1.0</td>\n",
       "      <td>0.0</td>\n",
       "      <td>0.0</td>\n",
       "      <td>3.0</td>\n",
       "      <td>0.0</td>\n",
       "      <td>0</td>\n",
       "    </tr>\n",
       "    <tr>\n",
       "      <th>4</th>\n",
       "      <td>5</td>\n",
       "      <td>2</td>\n",
       "      <td>0</td>\n",
       "      <td>0</td>\n",
       "      <td>5.0</td>\n",
       "      <td>0.0</td>\n",
       "      <td>2.0</td>\n",
       "      <td>0.0</td>\n",
       "      <td>0.0</td>\n",
       "      <td>0.0</td>\n",
       "      <td>...</td>\n",
       "      <td>6.0</td>\n",
       "      <td>0.0</td>\n",
       "      <td>0.0</td>\n",
       "      <td>3.0</td>\n",
       "      <td>1.0</td>\n",
       "      <td>0.0</td>\n",
       "      <td>0.0</td>\n",
       "      <td>4.0</td>\n",
       "      <td>0.0</td>\n",
       "      <td>0</td>\n",
       "    </tr>\n",
       "  </tbody>\n",
       "</table>\n",
       "<p>5 rows × 30 columns</p>\n",
       "</div>"
      ],
      "text/plain": [
       "   Семестр  Форма обучения  Квалификация  незачет  зачет  удовлетворительно  \\\n",
       "0        1               2             0        0    6.0                0.0   \n",
       "1        2               2             0        0    5.0                1.0   \n",
       "2        3               2             0        0    2.0                0.0   \n",
       "3        4               2             0        0    4.0                0.0   \n",
       "4        5               2             0        0    5.0                0.0   \n",
       "\n",
       "   хорошо  отлично  зачет испр  удовлетворительно испр  ...  Накоп отлично  \\\n",
       "0     1.0      1.0         0.0                     0.0  ...            1.0   \n",
       "1     0.0      2.0         0.0                     0.0  ...            3.0   \n",
       "2     2.0      1.0         0.0                     0.0  ...            4.0   \n",
       "3     0.0      2.0         0.0                     0.0  ...            6.0   \n",
       "4     2.0      0.0         0.0                     0.0  ...            6.0   \n",
       "\n",
       "   Накоп зачет испр  Накоп удовлетворительно испр  Накоп хорошо испр  \\\n",
       "0               0.0                           0.0                0.0   \n",
       "1               0.0                           0.0                1.0   \n",
       "2               0.0                           0.0                2.0   \n",
       "3               0.0                           0.0                2.0   \n",
       "4               0.0                           0.0                3.0   \n",
       "\n",
       "   Накоп отлично испр  Накоп незачет до испр  Накоп зачет до испр  \\\n",
       "0                 0.0                    0.0                  0.0   \n",
       "1                 0.0                    0.0                  0.0   \n",
       "2                 0.0                    0.0                  0.0   \n",
       "3                 1.0                    0.0                  0.0   \n",
       "4                 1.0                    0.0                  0.0   \n",
       "\n",
       "   Накоп удовлетворительно до испр  Накоп хорошо до испр  отчислен  \n",
       "0                              0.0                   0.0         0  \n",
       "1                              1.0                   0.0         0  \n",
       "2                              2.0                   0.0         0  \n",
       "3                              3.0                   0.0         0  \n",
       "4                              4.0                   0.0         0  \n",
       "\n",
       "[5 rows x 30 columns]"
      ]
     },
     "execution_count": 15,
     "metadata": {},
     "output_type": "execute_result"
    }
   ],
   "source": [
    "df.head()"
   ]
  },
  {
   "cell_type": "code",
   "execution_count": 16,
   "metadata": {},
   "outputs": [
    {
     "name": "stderr",
     "output_type": "stream",
     "text": [
      "Summarize dataset:   0%|          | 0/5 [00:00<?, ?it/s]"
     ]
    },
    {
     "name": "stderr",
     "output_type": "stream",
     "text": [
      "Summarize dataset: 100%|██████████| 400/400 [00:58<00:00,  6.89it/s, Completed]                                                               \n",
      "Generate report structure: 100%|██████████| 1/1 [00:06<00:00,  6.38s/it]\n",
      "Render HTML: 100%|██████████| 1/1 [00:07<00:00,  8.00s/it]\n",
      "Export report to file: 100%|██████████| 1/1 [00:00<00:00, 10.15it/s]\n"
     ]
    }
   ],
   "source": [
    "profile = ProfileReport(df, title=\"Profiling Report\")\n",
    "profile.to_file(\"your_reportXD1.html\")"
   ]
  },
  {
   "cell_type": "markdown",
   "metadata": {},
   "source": []
  },
  {
   "cell_type": "markdown",
   "metadata": {},
   "source": [
    "df.to_csv('csv/uspevaemost1000.csv', index=False)"
   ]
  }
 ],
 "metadata": {
  "kernelspec": {
   "display_name": "Python 3",
   "language": "python",
   "name": "python3"
  },
  "language_info": {
   "codemirror_mode": {
    "name": "ipython",
    "version": 3
   },
   "file_extension": ".py",
   "mimetype": "text/x-python",
   "name": "python",
   "nbconvert_exporter": "python",
   "pygments_lexer": "ipython3",
   "version": "3.11.6"
  },
  "orig_nbformat": 4
 },
 "nbformat": 4,
 "nbformat_minor": 2
}
