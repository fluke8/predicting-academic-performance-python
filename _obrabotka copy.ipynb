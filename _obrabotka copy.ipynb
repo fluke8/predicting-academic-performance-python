{
 "cells": [
  {
   "cell_type": "code",
   "execution_count": 1,
   "metadata": {},
   "outputs": [
    {
     "name": "stderr",
     "output_type": "stream",
     "text": [
      "C:\\Users\\fluke\\AppData\\Local\\Packages\\PythonSoftwareFoundation.Python.3.11_qbz5n2kfra8p0\\LocalCache\\local-packages\\Python311\\site-packages\\tqdm\\auto.py:21: TqdmWarning: IProgress not found. Please update jupyter and ipywidgets. See https://ipywidgets.readthedocs.io/en/stable/user_install.html\n",
      "  from .autonotebook import tqdm as notebook_tqdm\n"
     ]
    }
   ],
   "source": [
    "import pandas as pd\n",
    "from ydata_profiling import ProfileReport"
   ]
  },
  {
   "cell_type": "code",
   "execution_count": 2,
   "metadata": {},
   "outputs": [],
   "source": [
    "df = pd.read_csv('csv/uspevaemost_nakop_bez_perevedennih_raw1.csv')"
   ]
  },
  {
   "cell_type": "code",
   "execution_count": 3,
   "metadata": {},
   "outputs": [],
   "source": [
    "df = df[df['Квалификация'] != 3]\n",
    "df = df[df['Квалификация'] != 4]\n"
   ]
  },
  {
   "cell_type": "code",
   "execution_count": 4,
   "metadata": {},
   "outputs": [
    {
     "name": "stdout",
     "output_type": "stream",
     "text": [
      "<class 'pandas.core.frame.DataFrame'>\n",
      "Index: 19069 entries, 0 to 20164\n",
      "Data columns (total 29 columns):\n",
      " #   Column                                  Non-Null Count  Dtype  \n",
      "---  ------                                  --------------  -----  \n",
      " 0   Семестр                                 19069 non-null  int64  \n",
      " 1   Форма обучения                          19069 non-null  int64  \n",
      " 2   Квалификация                            19069 non-null  int64  \n",
      " 3   незачет сразу                           19069 non-null  int64  \n",
      " 4   зачет сразу                             19069 non-null  float64\n",
      " 5   удовлетворительно сразу                 19069 non-null  float64\n",
      " 6   хорошо сразу                            19069 non-null  float64\n",
      " 7   отлично сразу                           19069 non-null  float64\n",
      " 8   зачет с исправлением                    19069 non-null  float64\n",
      " 9   удовлетворительно с исправлением        19069 non-null  float64\n",
      " 10  хорошо с исправлением                   19069 non-null  float64\n",
      " 11  отлично с исправлением                  19069 non-null  float64\n",
      " 12  незачет до исправления                  19069 non-null  float64\n",
      " 13  зачет до исправления                    19069 non-null  float64\n",
      " 14  удовлетворительно до исправления        19069 non-null  float64\n",
      " 15  хорошо до исправления                   19069 non-null  float64\n",
      " 16  Накоп незачет сразу                     19069 non-null  float64\n",
      " 17  Накоп зачет сразу                       19069 non-null  float64\n",
      " 18  Накоп удовлетворительно сразу           19069 non-null  float64\n",
      " 19  Накоп хорошо сразу                      19069 non-null  float64\n",
      " 20  Накоп отлично сразу                     19069 non-null  float64\n",
      " 21  Накоп зачет с исправлением              19069 non-null  float64\n",
      " 22  Накоп удовлетворительно с исправлением  19069 non-null  float64\n",
      " 23  Накоп хорошо с исправлением             19069 non-null  float64\n",
      " 24  Накоп отлично с исправлением            19069 non-null  float64\n",
      " 25  Накоп незачет до исправления            19069 non-null  float64\n",
      " 26  Накоп зачет до исправления              19069 non-null  float64\n",
      " 27  Накоп удовлетворительно до исправления  19069 non-null  float64\n",
      " 28  отчислен                                19069 non-null  int64  \n",
      "dtypes: float64(24), int64(5)\n",
      "memory usage: 4.4 MB\n"
     ]
    }
   ],
   "source": [
    "df.info()"
   ]
  },
  {
   "cell_type": "code",
   "execution_count": null,
   "metadata": {},
   "outputs": [],
   "source": []
  },
  {
   "cell_type": "code",
   "execution_count": null,
   "metadata": {},
   "outputs": [],
   "source": []
  },
  {
   "cell_type": "code",
   "execution_count": null,
   "metadata": {},
   "outputs": [],
   "source": [
    "\n",
    "phrases = ['незачет сразу', 'зачет сразу', 'удовлетворительно сразу', 'хорошо сразу',\n",
    "         'отлично сразу', 'зачет с исправлением', 'удовлетворительно с исправлением',\n",
    "         'хорошо с исправлением', 'отлично с исправлением', 'незачет до исправления',\n",
    "         'зачет до исправления', 'удовлетворительно до исправления']\n",
    "\n",
    "# Создаем накопительные столбцы для каждой фразы\n",
    "df = df.sort_values(by=['Студент', 'Семестр'])\n",
    "for phrase in phrases:\n",
    "    df[f'Накоп {phrase}'] = df.groupby('Студент')[f'{phrase}'].cumsum()\n"
   ]
  },
  {
   "cell_type": "code",
   "execution_count": 4,
   "metadata": {},
   "outputs": [
    {
     "name": "stderr",
     "output_type": "stream",
     "text": [
      "Summarize dataset:  75%|███████▌  | 15/20 [00:11<00:03,  1.33it/s, Missing diagram matrix]         \n"
     ]
    },
    {
     "ename": "KeyboardInterrupt",
     "evalue": "",
     "output_type": "error",
     "traceback": [
      "\u001b[1;31m---------------------------------------------------------------------------\u001b[0m",
      "\u001b[1;31mKeyboardInterrupt\u001b[0m                         Traceback (most recent call last)",
      "\u001b[1;32mc:\\Users\\fluke\\Documents\\Code\\predicting-academic-performance-python\\_obrabotka.ipynb Cell 3\u001b[0m line \u001b[0;36m2\n\u001b[0;32m      <a href='vscode-notebook-cell:/c%3A/Users/fluke/Documents/Code/predicting-academic-performance-python/_obrabotka.ipynb#W3sZmlsZQ%3D%3D?line=0'>1</a>\u001b[0m profile \u001b[39m=\u001b[39m ProfileReport(df, title\u001b[39m=\u001b[39m\u001b[39m\"\u001b[39m\u001b[39mProfiling Report\u001b[39m\u001b[39m\"\u001b[39m)\n\u001b[1;32m----> <a href='vscode-notebook-cell:/c%3A/Users/fluke/Documents/Code/predicting-academic-performance-python/_obrabotka.ipynb#W3sZmlsZQ%3D%3D?line=1'>2</a>\u001b[0m profile\u001b[39m.\u001b[39;49mto_file(\u001b[39m\"\u001b[39;49m\u001b[39myour_report10.html\u001b[39;49m\u001b[39m\"\u001b[39;49m)\n",
      "File \u001b[1;32m~\\AppData\\Local\\Packages\\PythonSoftwareFoundation.Python.3.11_qbz5n2kfra8p0\\LocalCache\\local-packages\\Python311\\site-packages\\typeguard\\__init__.py:1033\u001b[0m, in \u001b[0;36mtypechecked.<locals>.wrapper\u001b[1;34m(*args, **kwargs)\u001b[0m\n\u001b[0;32m   1031\u001b[0m memo \u001b[39m=\u001b[39m _CallMemo(python_func, _localns, args\u001b[39m=\u001b[39margs, kwargs\u001b[39m=\u001b[39mkwargs)\n\u001b[0;32m   1032\u001b[0m check_argument_types(memo)\n\u001b[1;32m-> 1033\u001b[0m retval \u001b[39m=\u001b[39m func(\u001b[39m*\u001b[39;49margs, \u001b[39m*\u001b[39;49m\u001b[39m*\u001b[39;49mkwargs)\n\u001b[0;32m   1034\u001b[0m \u001b[39mtry\u001b[39;00m:\n\u001b[0;32m   1035\u001b[0m     check_return_type(retval, memo)\n",
      "File \u001b[1;32m~\\AppData\\Local\\Packages\\PythonSoftwareFoundation.Python.3.11_qbz5n2kfra8p0\\LocalCache\\local-packages\\Python311\\site-packages\\ydata_profiling\\profile_report.py:355\u001b[0m, in \u001b[0;36mProfileReport.to_file\u001b[1;34m(self, output_file, silent)\u001b[0m\n\u001b[0;32m    352\u001b[0m         \u001b[39mself\u001b[39m\u001b[39m.\u001b[39mconfig\u001b[39m.\u001b[39mhtml\u001b[39m.\u001b[39massets_prefix \u001b[39m=\u001b[39m \u001b[39mstr\u001b[39m(output_file\u001b[39m.\u001b[39mstem) \u001b[39m+\u001b[39m \u001b[39m\"\u001b[39m\u001b[39m_assets\u001b[39m\u001b[39m\"\u001b[39m\n\u001b[0;32m    353\u001b[0m     create_html_assets(\u001b[39mself\u001b[39m\u001b[39m.\u001b[39mconfig, output_file)\n\u001b[1;32m--> 355\u001b[0m data \u001b[39m=\u001b[39m \u001b[39mself\u001b[39;49m\u001b[39m.\u001b[39;49mto_html()\n\u001b[0;32m    357\u001b[0m \u001b[39mif\u001b[39;00m output_file\u001b[39m.\u001b[39msuffix \u001b[39m!=\u001b[39m \u001b[39m\"\u001b[39m\u001b[39m.html\u001b[39m\u001b[39m\"\u001b[39m:\n\u001b[0;32m    358\u001b[0m     suffix \u001b[39m=\u001b[39m output_file\u001b[39m.\u001b[39msuffix\n",
      "File \u001b[1;32m~\\AppData\\Local\\Packages\\PythonSoftwareFoundation.Python.3.11_qbz5n2kfra8p0\\LocalCache\\local-packages\\Python311\\site-packages\\typeguard\\__init__.py:1033\u001b[0m, in \u001b[0;36mtypechecked.<locals>.wrapper\u001b[1;34m(*args, **kwargs)\u001b[0m\n\u001b[0;32m   1031\u001b[0m memo \u001b[39m=\u001b[39m _CallMemo(python_func, _localns, args\u001b[39m=\u001b[39margs, kwargs\u001b[39m=\u001b[39mkwargs)\n\u001b[0;32m   1032\u001b[0m check_argument_types(memo)\n\u001b[1;32m-> 1033\u001b[0m retval \u001b[39m=\u001b[39m func(\u001b[39m*\u001b[39;49margs, \u001b[39m*\u001b[39;49m\u001b[39m*\u001b[39;49mkwargs)\n\u001b[0;32m   1034\u001b[0m \u001b[39mtry\u001b[39;00m:\n\u001b[0;32m   1035\u001b[0m     check_return_type(retval, memo)\n",
      "File \u001b[1;32m~\\AppData\\Local\\Packages\\PythonSoftwareFoundation.Python.3.11_qbz5n2kfra8p0\\LocalCache\\local-packages\\Python311\\site-packages\\ydata_profiling\\profile_report.py:470\u001b[0m, in \u001b[0;36mProfileReport.to_html\u001b[1;34m(self)\u001b[0m\n\u001b[0;32m    462\u001b[0m \u001b[39mdef\u001b[39;00m \u001b[39mto_html\u001b[39m(\u001b[39mself\u001b[39m) \u001b[39m-\u001b[39m\u001b[39m>\u001b[39m \u001b[39mstr\u001b[39m:\n\u001b[0;32m    463\u001b[0m \u001b[39m    \u001b[39m\u001b[39m\"\"\"Generate and return complete template as lengthy string\u001b[39;00m\n\u001b[0;32m    464\u001b[0m \u001b[39m        for using with frameworks.\u001b[39;00m\n\u001b[0;32m    465\u001b[0m \n\u001b[1;32m   (...)\u001b[0m\n\u001b[0;32m    468\u001b[0m \n\u001b[0;32m    469\u001b[0m \u001b[39m    \"\"\"\u001b[39;00m\n\u001b[1;32m--> 470\u001b[0m     \u001b[39mreturn\u001b[39;00m \u001b[39mself\u001b[39;49m\u001b[39m.\u001b[39;49mhtml\n",
      "File \u001b[1;32m~\\AppData\\Local\\Packages\\PythonSoftwareFoundation.Python.3.11_qbz5n2kfra8p0\\LocalCache\\local-packages\\Python311\\site-packages\\typeguard\\__init__.py:1033\u001b[0m, in \u001b[0;36mtypechecked.<locals>.wrapper\u001b[1;34m(*args, **kwargs)\u001b[0m\n\u001b[0;32m   1031\u001b[0m memo \u001b[39m=\u001b[39m _CallMemo(python_func, _localns, args\u001b[39m=\u001b[39margs, kwargs\u001b[39m=\u001b[39mkwargs)\n\u001b[0;32m   1032\u001b[0m check_argument_types(memo)\n\u001b[1;32m-> 1033\u001b[0m retval \u001b[39m=\u001b[39m func(\u001b[39m*\u001b[39;49margs, \u001b[39m*\u001b[39;49m\u001b[39m*\u001b[39;49mkwargs)\n\u001b[0;32m   1034\u001b[0m \u001b[39mtry\u001b[39;00m:\n\u001b[0;32m   1035\u001b[0m     check_return_type(retval, memo)\n",
      "File \u001b[1;32m~\\AppData\\Local\\Packages\\PythonSoftwareFoundation.Python.3.11_qbz5n2kfra8p0\\LocalCache\\local-packages\\Python311\\site-packages\\ydata_profiling\\profile_report.py:277\u001b[0m, in \u001b[0;36mProfileReport.html\u001b[1;34m(self)\u001b[0m\n\u001b[0;32m    274\u001b[0m \u001b[39m@property\u001b[39m\n\u001b[0;32m    275\u001b[0m \u001b[39mdef\u001b[39;00m \u001b[39mhtml\u001b[39m(\u001b[39mself\u001b[39m) \u001b[39m-\u001b[39m\u001b[39m>\u001b[39m \u001b[39mstr\u001b[39m:\n\u001b[0;32m    276\u001b[0m     \u001b[39mif\u001b[39;00m \u001b[39mself\u001b[39m\u001b[39m.\u001b[39m_html \u001b[39mis\u001b[39;00m \u001b[39mNone\u001b[39;00m:\n\u001b[1;32m--> 277\u001b[0m         \u001b[39mself\u001b[39m\u001b[39m.\u001b[39m_html \u001b[39m=\u001b[39m \u001b[39mself\u001b[39;49m\u001b[39m.\u001b[39;49m_render_html()\n\u001b[0;32m    278\u001b[0m     \u001b[39mreturn\u001b[39;00m \u001b[39mself\u001b[39m\u001b[39m.\u001b[39m_html\n",
      "File \u001b[1;32m~\\AppData\\Local\\Packages\\PythonSoftwareFoundation.Python.3.11_qbz5n2kfra8p0\\LocalCache\\local-packages\\Python311\\site-packages\\typeguard\\__init__.py:1033\u001b[0m, in \u001b[0;36mtypechecked.<locals>.wrapper\u001b[1;34m(*args, **kwargs)\u001b[0m\n\u001b[0;32m   1031\u001b[0m memo \u001b[39m=\u001b[39m _CallMemo(python_func, _localns, args\u001b[39m=\u001b[39margs, kwargs\u001b[39m=\u001b[39mkwargs)\n\u001b[0;32m   1032\u001b[0m check_argument_types(memo)\n\u001b[1;32m-> 1033\u001b[0m retval \u001b[39m=\u001b[39m func(\u001b[39m*\u001b[39;49margs, \u001b[39m*\u001b[39;49m\u001b[39m*\u001b[39;49mkwargs)\n\u001b[0;32m   1034\u001b[0m \u001b[39mtry\u001b[39;00m:\n\u001b[0;32m   1035\u001b[0m     check_return_type(retval, memo)\n",
      "File \u001b[1;32m~\\AppData\\Local\\Packages\\PythonSoftwareFoundation.Python.3.11_qbz5n2kfra8p0\\LocalCache\\local-packages\\Python311\\site-packages\\ydata_profiling\\profile_report.py:385\u001b[0m, in \u001b[0;36mProfileReport._render_html\u001b[1;34m(self)\u001b[0m\n\u001b[0;32m    382\u001b[0m \u001b[39mdef\u001b[39;00m \u001b[39m_render_html\u001b[39m(\u001b[39mself\u001b[39m) \u001b[39m-\u001b[39m\u001b[39m>\u001b[39m \u001b[39mstr\u001b[39m:\n\u001b[0;32m    383\u001b[0m     \u001b[39mfrom\u001b[39;00m \u001b[39mydata_profiling\u001b[39;00m\u001b[39m.\u001b[39;00m\u001b[39mreport\u001b[39;00m\u001b[39m.\u001b[39;00m\u001b[39mpresentation\u001b[39;00m\u001b[39m.\u001b[39;00m\u001b[39mflavours\u001b[39;00m \u001b[39mimport\u001b[39;00m HTMLReport\n\u001b[1;32m--> 385\u001b[0m     report \u001b[39m=\u001b[39m \u001b[39mself\u001b[39;49m\u001b[39m.\u001b[39;49mreport\n\u001b[0;32m    387\u001b[0m     \u001b[39mwith\u001b[39;00m tqdm(\n\u001b[0;32m    388\u001b[0m         total\u001b[39m=\u001b[39m\u001b[39m1\u001b[39m, desc\u001b[39m=\u001b[39m\u001b[39m\"\u001b[39m\u001b[39mRender HTML\u001b[39m\u001b[39m\"\u001b[39m, disable\u001b[39m=\u001b[39m\u001b[39mnot\u001b[39;00m \u001b[39mself\u001b[39m\u001b[39m.\u001b[39mconfig\u001b[39m.\u001b[39mprogress_bar\n\u001b[0;32m    389\u001b[0m     ) \u001b[39mas\u001b[39;00m pbar:\n\u001b[0;32m    390\u001b[0m         html \u001b[39m=\u001b[39m HTMLReport(copy\u001b[39m.\u001b[39mdeepcopy(report))\u001b[39m.\u001b[39mrender(\n\u001b[0;32m    391\u001b[0m             nav\u001b[39m=\u001b[39m\u001b[39mself\u001b[39m\u001b[39m.\u001b[39mconfig\u001b[39m.\u001b[39mhtml\u001b[39m.\u001b[39mnavbar_show,\n\u001b[0;32m    392\u001b[0m             offline\u001b[39m=\u001b[39m\u001b[39mself\u001b[39m\u001b[39m.\u001b[39mconfig\u001b[39m.\u001b[39mhtml\u001b[39m.\u001b[39muse_local_assets,\n\u001b[1;32m   (...)\u001b[0m\n\u001b[0;32m    400\u001b[0m             version\u001b[39m=\u001b[39m\u001b[39mself\u001b[39m\u001b[39m.\u001b[39mdescription_set\u001b[39m.\u001b[39mpackage[\u001b[39m\"\u001b[39m\u001b[39mydata_profiling_version\u001b[39m\u001b[39m\"\u001b[39m],\n\u001b[0;32m    401\u001b[0m         )\n",
      "File \u001b[1;32m~\\AppData\\Local\\Packages\\PythonSoftwareFoundation.Python.3.11_qbz5n2kfra8p0\\LocalCache\\local-packages\\Python311\\site-packages\\typeguard\\__init__.py:1033\u001b[0m, in \u001b[0;36mtypechecked.<locals>.wrapper\u001b[1;34m(*args, **kwargs)\u001b[0m\n\u001b[0;32m   1031\u001b[0m memo \u001b[39m=\u001b[39m _CallMemo(python_func, _localns, args\u001b[39m=\u001b[39margs, kwargs\u001b[39m=\u001b[39mkwargs)\n\u001b[0;32m   1032\u001b[0m check_argument_types(memo)\n\u001b[1;32m-> 1033\u001b[0m retval \u001b[39m=\u001b[39m func(\u001b[39m*\u001b[39;49margs, \u001b[39m*\u001b[39;49m\u001b[39m*\u001b[39;49mkwargs)\n\u001b[0;32m   1034\u001b[0m \u001b[39mtry\u001b[39;00m:\n\u001b[0;32m   1035\u001b[0m     check_return_type(retval, memo)\n",
      "File \u001b[1;32m~\\AppData\\Local\\Packages\\PythonSoftwareFoundation.Python.3.11_qbz5n2kfra8p0\\LocalCache\\local-packages\\Python311\\site-packages\\ydata_profiling\\profile_report.py:271\u001b[0m, in \u001b[0;36mProfileReport.report\u001b[1;34m(self)\u001b[0m\n\u001b[0;32m    268\u001b[0m \u001b[39m@property\u001b[39m\n\u001b[0;32m    269\u001b[0m \u001b[39mdef\u001b[39;00m \u001b[39mreport\u001b[39m(\u001b[39mself\u001b[39m) \u001b[39m-\u001b[39m\u001b[39m>\u001b[39m Root:\n\u001b[0;32m    270\u001b[0m     \u001b[39mif\u001b[39;00m \u001b[39mself\u001b[39m\u001b[39m.\u001b[39m_report \u001b[39mis\u001b[39;00m \u001b[39mNone\u001b[39;00m:\n\u001b[1;32m--> 271\u001b[0m         \u001b[39mself\u001b[39m\u001b[39m.\u001b[39m_report \u001b[39m=\u001b[39m get_report_structure(\u001b[39mself\u001b[39m\u001b[39m.\u001b[39mconfig, \u001b[39mself\u001b[39;49m\u001b[39m.\u001b[39;49mdescription_set)\n\u001b[0;32m    272\u001b[0m     \u001b[39mreturn\u001b[39;00m \u001b[39mself\u001b[39m\u001b[39m.\u001b[39m_report\n",
      "File \u001b[1;32m~\\AppData\\Local\\Packages\\PythonSoftwareFoundation.Python.3.11_qbz5n2kfra8p0\\LocalCache\\local-packages\\Python311\\site-packages\\typeguard\\__init__.py:1033\u001b[0m, in \u001b[0;36mtypechecked.<locals>.wrapper\u001b[1;34m(*args, **kwargs)\u001b[0m\n\u001b[0;32m   1031\u001b[0m memo \u001b[39m=\u001b[39m _CallMemo(python_func, _localns, args\u001b[39m=\u001b[39margs, kwargs\u001b[39m=\u001b[39mkwargs)\n\u001b[0;32m   1032\u001b[0m check_argument_types(memo)\n\u001b[1;32m-> 1033\u001b[0m retval \u001b[39m=\u001b[39m func(\u001b[39m*\u001b[39;49margs, \u001b[39m*\u001b[39;49m\u001b[39m*\u001b[39;49mkwargs)\n\u001b[0;32m   1034\u001b[0m \u001b[39mtry\u001b[39;00m:\n\u001b[0;32m   1035\u001b[0m     check_return_type(retval, memo)\n",
      "File \u001b[1;32m~\\AppData\\Local\\Packages\\PythonSoftwareFoundation.Python.3.11_qbz5n2kfra8p0\\LocalCache\\local-packages\\Python311\\site-packages\\ydata_profiling\\profile_report.py:253\u001b[0m, in \u001b[0;36mProfileReport.description_set\u001b[1;34m(self)\u001b[0m\n\u001b[0;32m    250\u001b[0m \u001b[39m@property\u001b[39m\n\u001b[0;32m    251\u001b[0m \u001b[39mdef\u001b[39;00m \u001b[39mdescription_set\u001b[39m(\u001b[39mself\u001b[39m) \u001b[39m-\u001b[39m\u001b[39m>\u001b[39m BaseDescription:\n\u001b[0;32m    252\u001b[0m     \u001b[39mif\u001b[39;00m \u001b[39mself\u001b[39m\u001b[39m.\u001b[39m_description_set \u001b[39mis\u001b[39;00m \u001b[39mNone\u001b[39;00m:\n\u001b[1;32m--> 253\u001b[0m         \u001b[39mself\u001b[39m\u001b[39m.\u001b[39m_description_set \u001b[39m=\u001b[39m describe_df(\n\u001b[0;32m    254\u001b[0m             \u001b[39mself\u001b[39;49m\u001b[39m.\u001b[39;49mconfig,\n\u001b[0;32m    255\u001b[0m             \u001b[39mself\u001b[39;49m\u001b[39m.\u001b[39;49mdf,\n\u001b[0;32m    256\u001b[0m             \u001b[39mself\u001b[39;49m\u001b[39m.\u001b[39;49msummarizer,\n\u001b[0;32m    257\u001b[0m             \u001b[39mself\u001b[39;49m\u001b[39m.\u001b[39;49mtypeset,\n\u001b[0;32m    258\u001b[0m             \u001b[39mself\u001b[39;49m\u001b[39m.\u001b[39;49m_sample,\n\u001b[0;32m    259\u001b[0m         )\n\u001b[0;32m    260\u001b[0m     \u001b[39mreturn\u001b[39;00m \u001b[39mself\u001b[39m\u001b[39m.\u001b[39m_description_set\n",
      "File \u001b[1;32m~\\AppData\\Local\\Packages\\PythonSoftwareFoundation.Python.3.11_qbz5n2kfra8p0\\LocalCache\\local-packages\\Python311\\site-packages\\ydata_profiling\\model\\describe.py:137\u001b[0m, in \u001b[0;36mdescribe\u001b[1;34m(config, df, summarizer, typeset, sample)\u001b[0m\n\u001b[0;32m    135\u001b[0m missing_map \u001b[39m=\u001b[39m get_missing_active(config, table_stats)\n\u001b[0;32m    136\u001b[0m pbar\u001b[39m.\u001b[39mtotal \u001b[39m+\u001b[39m\u001b[39m=\u001b[39m \u001b[39mlen\u001b[39m(missing_map)\n\u001b[1;32m--> 137\u001b[0m missing \u001b[39m=\u001b[39m {\n\u001b[0;32m    138\u001b[0m     name: progress(get_missing_diagram, pbar, \u001b[39mf\u001b[39;49m\u001b[39m\"\u001b[39;49m\u001b[39mMissing diagram \u001b[39;49m\u001b[39m{\u001b[39;49;00mname\u001b[39m}\u001b[39;49;00m\u001b[39m\"\u001b[39;49m)(\n\u001b[0;32m    139\u001b[0m         config, df, settings\n\u001b[0;32m    140\u001b[0m     )\n\u001b[0;32m    141\u001b[0m     \u001b[39mfor\u001b[39;49;00m name, settings \u001b[39min\u001b[39;49;00m missing_map\u001b[39m.\u001b[39;49mitems()\n\u001b[0;32m    142\u001b[0m }\n\u001b[0;32m    143\u001b[0m missing \u001b[39m=\u001b[39m {name: value \u001b[39mfor\u001b[39;00m name, value \u001b[39min\u001b[39;00m missing\u001b[39m.\u001b[39mitems() \u001b[39mif\u001b[39;00m value \u001b[39mis\u001b[39;00m \u001b[39mnot\u001b[39;00m \u001b[39mNone\u001b[39;00m}\n\u001b[0;32m    145\u001b[0m \u001b[39m# Sample\u001b[39;00m\n",
      "File \u001b[1;32m~\\AppData\\Local\\Packages\\PythonSoftwareFoundation.Python.3.11_qbz5n2kfra8p0\\LocalCache\\local-packages\\Python311\\site-packages\\ydata_profiling\\model\\describe.py:138\u001b[0m, in \u001b[0;36m<dictcomp>\u001b[1;34m(.0)\u001b[0m\n\u001b[0;32m    135\u001b[0m missing_map \u001b[39m=\u001b[39m get_missing_active(config, table_stats)\n\u001b[0;32m    136\u001b[0m pbar\u001b[39m.\u001b[39mtotal \u001b[39m+\u001b[39m\u001b[39m=\u001b[39m \u001b[39mlen\u001b[39m(missing_map)\n\u001b[0;32m    137\u001b[0m missing \u001b[39m=\u001b[39m {\n\u001b[1;32m--> 138\u001b[0m     name: progress(get_missing_diagram, pbar, \u001b[39mf\u001b[39;49m\u001b[39m\"\u001b[39;49m\u001b[39mMissing diagram \u001b[39;49m\u001b[39m{\u001b[39;49;00mname\u001b[39m}\u001b[39;49;00m\u001b[39m\"\u001b[39;49m)(\n\u001b[0;32m    139\u001b[0m         config, df, settings\n\u001b[0;32m    140\u001b[0m     )\n\u001b[0;32m    141\u001b[0m     \u001b[39mfor\u001b[39;00m name, settings \u001b[39min\u001b[39;00m missing_map\u001b[39m.\u001b[39mitems()\n\u001b[0;32m    142\u001b[0m }\n\u001b[0;32m    143\u001b[0m missing \u001b[39m=\u001b[39m {name: value \u001b[39mfor\u001b[39;00m name, value \u001b[39min\u001b[39;00m missing\u001b[39m.\u001b[39mitems() \u001b[39mif\u001b[39;00m value \u001b[39mis\u001b[39;00m \u001b[39mnot\u001b[39;00m \u001b[39mNone\u001b[39;00m}\n\u001b[0;32m    145\u001b[0m \u001b[39m# Sample\u001b[39;00m\n",
      "File \u001b[1;32m~\\AppData\\Local\\Packages\\PythonSoftwareFoundation.Python.3.11_qbz5n2kfra8p0\\LocalCache\\local-packages\\Python311\\site-packages\\ydata_profiling\\utils\\progress_bar.py:11\u001b[0m, in \u001b[0;36mprogress.<locals>.inner\u001b[1;34m(*args, **kwargs)\u001b[0m\n\u001b[0;32m      8\u001b[0m \u001b[39m@wraps\u001b[39m(fn)\n\u001b[0;32m      9\u001b[0m \u001b[39mdef\u001b[39;00m \u001b[39minner\u001b[39m(\u001b[39m*\u001b[39margs, \u001b[39m*\u001b[39m\u001b[39m*\u001b[39mkwargs) \u001b[39m-\u001b[39m\u001b[39m>\u001b[39m Any:\n\u001b[0;32m     10\u001b[0m     bar\u001b[39m.\u001b[39mset_postfix_str(message)\n\u001b[1;32m---> 11\u001b[0m     ret \u001b[39m=\u001b[39m fn(\u001b[39m*\u001b[39;49margs, \u001b[39m*\u001b[39;49m\u001b[39m*\u001b[39;49mkwargs)\n\u001b[0;32m     12\u001b[0m     bar\u001b[39m.\u001b[39mupdate()\n\u001b[0;32m     13\u001b[0m     \u001b[39mreturn\u001b[39;00m ret\n",
      "File \u001b[1;32m~\\AppData\\Local\\Packages\\PythonSoftwareFoundation.Python.3.11_qbz5n2kfra8p0\\LocalCache\\local-packages\\Python311\\site-packages\\ydata_profiling\\model\\missing.py:112\u001b[0m, in \u001b[0;36mget_missing_diagram\u001b[1;34m(config, df, settings)\u001b[0m\n\u001b[0;32m    109\u001b[0m \u001b[39mif\u001b[39;00m \u001b[39mlen\u001b[39m(df) \u001b[39m==\u001b[39m \u001b[39m0\u001b[39m:\n\u001b[0;32m    110\u001b[0m     \u001b[39mreturn\u001b[39;00m \u001b[39mNone\u001b[39;00m\n\u001b[1;32m--> 112\u001b[0m result \u001b[39m=\u001b[39m handle_missing(settings[\u001b[39m\"\u001b[39;49m\u001b[39mname\u001b[39;49m\u001b[39m\"\u001b[39;49m], settings[\u001b[39m\"\u001b[39;49m\u001b[39mfunction\u001b[39;49m\u001b[39m\"\u001b[39;49m])(config, df)\n\u001b[0;32m    113\u001b[0m \u001b[39mif\u001b[39;00m result \u001b[39mis\u001b[39;00m \u001b[39mNone\u001b[39;00m:\n\u001b[0;32m    114\u001b[0m     \u001b[39mreturn\u001b[39;00m \u001b[39mNone\u001b[39;00m\n",
      "File \u001b[1;32m~\\AppData\\Local\\Packages\\PythonSoftwareFoundation.Python.3.11_qbz5n2kfra8p0\\LocalCache\\local-packages\\Python311\\site-packages\\ydata_profiling\\model\\missing.py:88\u001b[0m, in \u001b[0;36mhandle_missing.<locals>.inner\u001b[1;34m(*args, **kwargs)\u001b[0m\n\u001b[0;32m     78\u001b[0m             warnings\u001b[39m.\u001b[39mwarn(\n\u001b[0;32m     79\u001b[0m                 \u001b[39mf\u001b[39m\u001b[39m\"\"\"\u001b[39m\u001b[39mThere was an attempt to generate the \u001b[39m\u001b[39m{\u001b[39;00mmissing_name\u001b[39m}\u001b[39;00m\u001b[39m missing values diagrams, but this failed.\u001b[39m\n\u001b[0;32m     80\u001b[0m \u001b[39mTo hide this warning, disable the calculation\u001b[39m\n\u001b[1;32m   (...)\u001b[0m\n\u001b[0;32m     84\u001b[0m \u001b[39m(include the error message: \u001b[39m\u001b[39m'\u001b[39m\u001b[39m{\u001b[39;00merror\u001b[39m}\u001b[39;00m\u001b[39m'\u001b[39m\u001b[39m)\u001b[39m\u001b[39m\"\"\"\u001b[39m\n\u001b[0;32m     85\u001b[0m             )\n\u001b[0;32m     87\u001b[0m         \u001b[39mtry\u001b[39;00m:\n\u001b[1;32m---> 88\u001b[0m             \u001b[39mreturn\u001b[39;00m fn(\u001b[39m*\u001b[39;49margs, \u001b[39m*\u001b[39;49mkwargs)\n\u001b[0;32m     89\u001b[0m         \u001b[39mexcept\u001b[39;00m \u001b[39mValueError\u001b[39;00m \u001b[39mas\u001b[39;00m e:\n\u001b[0;32m     90\u001b[0m             warn_missing(name, \u001b[39mstr\u001b[39m(e))\n",
      "File \u001b[1;32m~\\AppData\\Local\\Packages\\PythonSoftwareFoundation.Python.3.11_qbz5n2kfra8p0\\LocalCache\\local-packages\\Python311\\site-packages\\multimethod\\__init__.py:328\u001b[0m, in \u001b[0;36mmultimethod.__call__\u001b[1;34m(self, *args, **kwargs)\u001b[0m\n\u001b[0;32m    326\u001b[0m func \u001b[39m=\u001b[39m \u001b[39mself\u001b[39m[\u001b[39mtuple\u001b[39m(func(arg) \u001b[39mfor\u001b[39;00m func, arg \u001b[39min\u001b[39;00m \u001b[39mzip\u001b[39m(\u001b[39mself\u001b[39m\u001b[39m.\u001b[39mtype_checkers, args))]\n\u001b[0;32m    327\u001b[0m \u001b[39mtry\u001b[39;00m:\n\u001b[1;32m--> 328\u001b[0m     \u001b[39mreturn\u001b[39;00m func(\u001b[39m*\u001b[39;49margs, \u001b[39m*\u001b[39;49m\u001b[39m*\u001b[39;49mkwargs)\n\u001b[0;32m    329\u001b[0m \u001b[39mexcept\u001b[39;00m \u001b[39mTypeError\u001b[39;00m \u001b[39mas\u001b[39;00m ex:\n\u001b[0;32m    330\u001b[0m     \u001b[39mraise\u001b[39;00m DispatchError(\u001b[39mf\u001b[39m\u001b[39m\"\u001b[39m\u001b[39mFunction \u001b[39m\u001b[39m{\u001b[39;00mfunc\u001b[39m.\u001b[39m\u001b[39m__code__\u001b[39m\u001b[39m}\u001b[39;00m\u001b[39m\"\u001b[39m) \u001b[39mfrom\u001b[39;00m \u001b[39mex\u001b[39;00m\n",
      "File \u001b[1;32m~\\AppData\\Local\\Packages\\PythonSoftwareFoundation.Python.3.11_qbz5n2kfra8p0\\LocalCache\\local-packages\\Python311\\site-packages\\ydata_profiling\\model\\pandas\\missing_pandas.py:29\u001b[0m, in \u001b[0;36mpandas_missing_matrix\u001b[1;34m(config, df)\u001b[0m\n\u001b[0;32m     24\u001b[0m \u001b[39m@missing_matrix\u001b[39m\u001b[39m.\u001b[39mregister\n\u001b[0;32m     25\u001b[0m \u001b[39mdef\u001b[39;00m \u001b[39mpandas_missing_matrix\u001b[39m(config: Settings, df: pd\u001b[39m.\u001b[39mDataFrame) \u001b[39m-\u001b[39m\u001b[39m>\u001b[39m \u001b[39mstr\u001b[39m:\n\u001b[0;32m     26\u001b[0m     \u001b[39mreturn\u001b[39;00m plot_missing_matrix(\n\u001b[0;32m     27\u001b[0m         config,\n\u001b[0;32m     28\u001b[0m         columns\u001b[39m=\u001b[39m\u001b[39mlist\u001b[39m(df\u001b[39m.\u001b[39mcolumns),\n\u001b[1;32m---> 29\u001b[0m         notnull\u001b[39m=\u001b[39mdf\u001b[39m.\u001b[39;49mnotnull()\u001b[39m.\u001b[39mvalues,\n\u001b[0;32m     30\u001b[0m         nrows\u001b[39m=\u001b[39m\u001b[39mlen\u001b[39m(df),\n\u001b[0;32m     31\u001b[0m     )\n",
      "File \u001b[1;32m~\\AppData\\Local\\Packages\\PythonSoftwareFoundation.Python.3.11_qbz5n2kfra8p0\\LocalCache\\local-packages\\Python311\\site-packages\\pandas\\core\\frame.py:6246\u001b[0m, in \u001b[0;36mDataFrame.notnull\u001b[1;34m(self)\u001b[0m\n\u001b[0;32m   6241\u001b[0m \u001b[39m@doc\u001b[39m(NDFrame\u001b[39m.\u001b[39mnotna, klass\u001b[39m=\u001b[39m_shared_doc_kwargs[\u001b[39m\"\u001b[39m\u001b[39mklass\u001b[39m\u001b[39m\"\u001b[39m])\n\u001b[0;32m   6242\u001b[0m \u001b[39mdef\u001b[39;00m \u001b[39mnotnull\u001b[39m(\u001b[39mself\u001b[39m) \u001b[39m-\u001b[39m\u001b[39m>\u001b[39m DataFrame:\n\u001b[0;32m   6243\u001b[0m \u001b[39m    \u001b[39m\u001b[39m\"\"\"\u001b[39;00m\n\u001b[0;32m   6244\u001b[0m \u001b[39m    DataFrame.notnull is an alias for DataFrame.notna.\u001b[39;00m\n\u001b[0;32m   6245\u001b[0m \u001b[39m    \"\"\"\u001b[39;00m\n\u001b[1;32m-> 6246\u001b[0m     \u001b[39mreturn\u001b[39;00m \u001b[39m~\u001b[39m\u001b[39mself\u001b[39;49m\u001b[39m.\u001b[39;49misna()\n",
      "File \u001b[1;32m~\\AppData\\Local\\Packages\\PythonSoftwareFoundation.Python.3.11_qbz5n2kfra8p0\\LocalCache\\local-packages\\Python311\\site-packages\\pandas\\core\\frame.py:6227\u001b[0m, in \u001b[0;36mDataFrame.isna\u001b[1;34m(self)\u001b[0m\n\u001b[0;32m   6225\u001b[0m \u001b[39m@doc\u001b[39m(NDFrame\u001b[39m.\u001b[39misna, klass\u001b[39m=\u001b[39m_shared_doc_kwargs[\u001b[39m\"\u001b[39m\u001b[39mklass\u001b[39m\u001b[39m\"\u001b[39m])\n\u001b[0;32m   6226\u001b[0m \u001b[39mdef\u001b[39;00m \u001b[39misna\u001b[39m(\u001b[39mself\u001b[39m) \u001b[39m-\u001b[39m\u001b[39m>\u001b[39m DataFrame:\n\u001b[1;32m-> 6227\u001b[0m     result \u001b[39m=\u001b[39m \u001b[39mself\u001b[39m\u001b[39m.\u001b[39m_constructor(\u001b[39mself\u001b[39;49m\u001b[39m.\u001b[39;49m_mgr\u001b[39m.\u001b[39;49misna(func\u001b[39m=\u001b[39;49misna))\n\u001b[0;32m   6228\u001b[0m     \u001b[39mreturn\u001b[39;00m result\u001b[39m.\u001b[39m__finalize__(\u001b[39mself\u001b[39m, method\u001b[39m=\u001b[39m\u001b[39m\"\u001b[39m\u001b[39misna\u001b[39m\u001b[39m\"\u001b[39m)\n",
      "File \u001b[1;32m~\\AppData\\Local\\Packages\\PythonSoftwareFoundation.Python.3.11_qbz5n2kfra8p0\\LocalCache\\local-packages\\Python311\\site-packages\\pandas\\core\\internals\\base.py:142\u001b[0m, in \u001b[0;36mDataManager.isna\u001b[1;34m(self, func)\u001b[0m\n\u001b[0;32m    140\u001b[0m \u001b[39m@final\u001b[39m\n\u001b[0;32m    141\u001b[0m \u001b[39mdef\u001b[39;00m \u001b[39misna\u001b[39m(\u001b[39mself\u001b[39m: T, func) \u001b[39m-\u001b[39m\u001b[39m>\u001b[39m T:\n\u001b[1;32m--> 142\u001b[0m     \u001b[39mreturn\u001b[39;00m \u001b[39mself\u001b[39;49m\u001b[39m.\u001b[39;49mapply(\u001b[39m\"\u001b[39;49m\u001b[39mapply\u001b[39;49m\u001b[39m\"\u001b[39;49m, func\u001b[39m=\u001b[39;49mfunc)\n",
      "File \u001b[1;32m~\\AppData\\Local\\Packages\\PythonSoftwareFoundation.Python.3.11_qbz5n2kfra8p0\\LocalCache\\local-packages\\Python311\\site-packages\\pandas\\core\\internals\\managers.py:352\u001b[0m, in \u001b[0;36mBaseBlockManager.apply\u001b[1;34m(self, f, align_keys, **kwargs)\u001b[0m\n\u001b[0;32m    350\u001b[0m         applied \u001b[39m=\u001b[39m b\u001b[39m.\u001b[39mapply(f, \u001b[39m*\u001b[39m\u001b[39m*\u001b[39mkwargs)\n\u001b[0;32m    351\u001b[0m     \u001b[39melse\u001b[39;00m:\n\u001b[1;32m--> 352\u001b[0m         applied \u001b[39m=\u001b[39m \u001b[39mgetattr\u001b[39;49m(b, f)(\u001b[39m*\u001b[39;49m\u001b[39m*\u001b[39;49mkwargs)\n\u001b[0;32m    353\u001b[0m     result_blocks \u001b[39m=\u001b[39m extend_blocks(applied, result_blocks)\n\u001b[0;32m    355\u001b[0m out \u001b[39m=\u001b[39m \u001b[39mtype\u001b[39m(\u001b[39mself\u001b[39m)\u001b[39m.\u001b[39mfrom_blocks(result_blocks, \u001b[39mself\u001b[39m\u001b[39m.\u001b[39maxes)\n",
      "File \u001b[1;32m~\\AppData\\Local\\Packages\\PythonSoftwareFoundation.Python.3.11_qbz5n2kfra8p0\\LocalCache\\local-packages\\Python311\\site-packages\\pandas\\core\\internals\\blocks.py:329\u001b[0m, in \u001b[0;36mBlock.apply\u001b[1;34m(self, func, **kwargs)\u001b[0m\n\u001b[0;32m    323\u001b[0m \u001b[39m@final\u001b[39m\n\u001b[0;32m    324\u001b[0m \u001b[39mdef\u001b[39;00m \u001b[39mapply\u001b[39m(\u001b[39mself\u001b[39m, func, \u001b[39m*\u001b[39m\u001b[39m*\u001b[39mkwargs) \u001b[39m-\u001b[39m\u001b[39m>\u001b[39m \u001b[39mlist\u001b[39m[Block]:\n\u001b[0;32m    325\u001b[0m \u001b[39m    \u001b[39m\u001b[39m\"\"\"\u001b[39;00m\n\u001b[0;32m    326\u001b[0m \u001b[39m    apply the function to my values; return a block if we are not\u001b[39;00m\n\u001b[0;32m    327\u001b[0m \u001b[39m    one\u001b[39;00m\n\u001b[0;32m    328\u001b[0m \u001b[39m    \"\"\"\u001b[39;00m\n\u001b[1;32m--> 329\u001b[0m     result \u001b[39m=\u001b[39m func(\u001b[39mself\u001b[39;49m\u001b[39m.\u001b[39;49mvalues, \u001b[39m*\u001b[39;49m\u001b[39m*\u001b[39;49mkwargs)\n\u001b[0;32m    331\u001b[0m     \u001b[39mreturn\u001b[39;00m \u001b[39mself\u001b[39m\u001b[39m.\u001b[39m_split_op_result(result)\n",
      "\u001b[1;31mKeyboardInterrupt\u001b[0m: "
     ]
    }
   ],
   "source": [
    "profile = ProfileReport(df, title=\"Profiling Report\")\n",
    "profile.to_file(\"your_report10.html\")"
   ]
  },
  {
   "cell_type": "code",
   "execution_count": null,
   "metadata": {},
   "outputs": [],
   "source": [
    "df.to_csv('csv/uspevaemost1000.csv', index=False)"
   ]
  }
 ],
 "metadata": {
  "kernelspec": {
   "display_name": "Python 3",
   "language": "python",
   "name": "python3"
  },
  "language_info": {
   "codemirror_mode": {
    "name": "ipython",
    "version": 3
   },
   "file_extension": ".py",
   "mimetype": "text/x-python",
   "name": "python",
   "nbconvert_exporter": "python",
   "pygments_lexer": "ipython3",
   "version": "3.11.6"
  },
  "orig_nbformat": 4
 },
 "nbformat": 4,
 "nbformat_minor": 2
}
