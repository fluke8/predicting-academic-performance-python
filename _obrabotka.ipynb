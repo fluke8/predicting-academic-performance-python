{
 "cells": [
  {
   "cell_type": "code",
   "execution_count": null,
   "metadata": {},
   "outputs": [],
   "source": [
    "import pandas as pd\n",
    "# from ydata_profiling import ProfileReport"
   ]
  },
  {
   "cell_type": "code",
   "execution_count": null,
   "metadata": {},
   "outputs": [],
   "source": [
    "df = pd.read_csv('csv/uspevaemost.csv', encoding='cp1251')"
   ]
  },
  {
   "cell_type": "code",
   "execution_count": null,
   "metadata": {},
   "outputs": [],
   "source": [
    "df = df[df['Статус'] == 'Отчисленный']\n",
    "\n",
    "df = df[df['Квалификация'] != 'Слушатель программ довузовской подготовки']"
   ]
  },
  {
   "cell_type": "code",
   "execution_count": null,
   "metadata": {},
   "outputs": [],
   "source": [
    "df.drop_duplicates(inplace=True)\n",
    "\n",
    "df = df[~(df['Оценка'] == 'неудовлетворительно') | ~(df.duplicated(subset=df.columns.difference(['Оценка']))) ]\n",
    "\n",
    "df['Оценка'] = df['Оценка'].map({\n",
    "    'отлично': 5,\n",
    "    'хорошо': 4,\n",
    "    'удовлетворительно': 3,\n",
    "    'зачтено': 2, \n",
    "    'незачет': 1 \n",
    "})\n",
    "\n",
    "df_bez_D = df.drop_duplicates(subset=df.columns.difference(['Оценка']), keep=False)\n",
    "\n",
    "df_s_D = df.merge(df_bez_D, indicator=True, how='outer').loc[lambda x: x['_merge'] == 'left_only'].drop(columns=['_merge']).drop_duplicates()"
   ]
  },
  {
   "cell_type": "code",
   "execution_count": null,
   "metadata": {},
   "outputs": [],
   "source": [
    "df = df_s_D\n",
    "df[df['Студент'] == '7A74794B6C504F644431394D5A652F517757433847413D3D'].sort_values(by=['Учебный год', 'Семестр'])"
   ]
  },
  {
   "cell_type": "code",
   "execution_count": null,
   "metadata": {},
   "outputs": [],
   "source": [
    "max_indices = df_s_D.groupby(['Студент', 'Группа', 'Дисциплина', 'Семестр', 'Учебный год', 'Специальность', 'Форма обучения', 'Квалификация', 'Статус'])['Оценка'].idxmax(skipna=True)\n",
    "df_max = df_s_D.loc[max_indices]\n",
    "\n",
    "\n",
    "min_indices = df_s_D.groupby(['Студент', 'Группа', 'Дисциплина', 'Семестр', 'Учебный год', 'Специальность', 'Форма обучения', 'Квалификация', 'Статус'])['Оценка'].idxmin(skipna=True)\n",
    "df_min = df_s_D.loc[min_indices]"
   ]
  },
  {
   "cell_type": "code",
   "execution_count": null,
   "metadata": {},
   "outputs": [],
   "source": [
    "df_min = df_min.groupby(['Студент', 'Группа', 'Семестр', 'Учебный год', 'Специальность', 'Форма обучения', 'Квалификация', 'Статус'], as_index=True)['Оценка'].value_counts().unstack(fill_value=0)\n",
    "df_max = df_max.groupby(['Студент', 'Группа', 'Семестр', 'Учебный год', 'Специальность', 'Форма обучения', 'Квалификация', 'Статус'], as_index=True)['Оценка'].value_counts().unstack(fill_value=0)\n",
    "df_bez_D = df_bez_D.groupby(['Студент', 'Группа', 'Семестр', 'Учебный год', 'Специальность', 'Форма обучения', 'Квалификация', 'Статус'], as_index=True)['Оценка'].value_counts().unstack(fill_value=0)"
   ]
  },
  {
   "cell_type": "code",
   "execution_count": null,
   "metadata": {},
   "outputs": [],
   "source": [
    "\n",
    "df = pd.merge(df_bez_D, df_max, on=['Студент','Группа','Семестр','Учебный год','Специальность','Форма обучения','Квалификация','Статус'], how='outer')\n",
    "df = pd.merge(df, df_min, on=['Студент','Группа','Семестр','Учебный год','Специальность','Форма обучения','Квалификация','Статус'], how='outer')\n",
    "\n",
    "df.fillna(0, inplace=True)\n"
   ]
  },
  {
   "cell_type": "code",
   "execution_count": null,
   "metadata": {},
   "outputs": [],
   "source": [
    "df.rename(columns={'1_x': 'незачет', '2_x': 'зачет', '3_x': 'удовлетворительно', '4_x': 'хорошо', '5_x': 'отлично', '2_y': 'зачет испр', '3_y': 'удовлетворительно испр', '4_y': 'хорошо испр', '5_y': 'отлично испр', '1_y': 'незачет до испр', 2: 'зачет до испр', 3: 'удовлетворительно до испр', 4: 'хорошо до испр'}, inplace=True)"
   ]
  },
  {
   "cell_type": "code",
   "execution_count": null,
   "metadata": {},
   "outputs": [],
   "source": [
    "\n",
    "phrases = ['незачет', 'зачет', 'удовлетворительно', 'хорошо',\n",
    "         'отлично', 'зачет испр', 'удовлетворительно испр',\n",
    "         'хорошо испр', 'отлично испр', 'незачет до испр',\n",
    "         'зачет до испр', 'удовлетворительно до испр', 'хорошо до испр']\n",
    "\n",
    "df = df.sort_values(by=['Студент', 'Семестр'])\n",
    "for phrase in phrases:\n",
    "    df[f'Накоп {phrase}'] = df.groupby('Студент')[f'{phrase}'].cumsum()\n"
   ]
  },
  {
   "cell_type": "code",
   "execution_count": null,
   "metadata": {},
   "outputs": [],
   "source": [
    "df['незачет'] = df['незачет'].apply(lambda x: 1 if x >= 1 else 0)\n",
    "\n",
    "df['отчислен'] = df.groupby('Студент')['незачет'].transform('max')"
   ]
  },
  {
   "cell_type": "code",
   "execution_count": null,
   "metadata": {},
   "outputs": [],
   "source": [
    "df = df[df['незачет'] < 1]\n",
    "df = df[df['Накоп незачет'] < 1]\n",
    "\n"
   ]
  },
  {
   "cell_type": "code",
   "execution_count": null,
   "metadata": {},
   "outputs": [],
   "source": [
    "df.to_csv('tempData.csv', index=True)\n",
    "df = pd.read_csv('tempData.csv')\n",
    "\n",
    "df['Квалификация'] = df['Квалификация'].map({\n",
    "    'Аспирант': 3,\n",
    "    'Магистр': 2,\n",
    "    'Специалист': 1,\n",
    "    'Бакалавр': 0,\n",
    "})\n",
    "\n",
    "df['Форма обучения'] = df['Форма обучения'].map({\n",
    "    'Заочная': 2,\n",
    "    'Очная': 0,\n",
    "   'Очно-заочная': 1\n",
    "})"
   ]
  },
  {
   "cell_type": "code",
   "execution_count": null,
   "metadata": {},
   "outputs": [],
   "source": [
    "\n",
    "df.drop('Статус', axis=1, inplace=True)\n",
    "df.drop('Студент', axis=1, inplace=True)\n",
    "df.drop('Группа', axis=1, inplace=True)\n",
    "df.drop('Специальность', axis=1, inplace=True)\n",
    "df.drop('Учебный год', axis=1, inplace=True)\n",
    "# df.drop('незачет', axis=1, inplace=True)\n",
    "# df.drop('Накоп незачет', axis=1, inplace=True)\n"
   ]
  },
  {
   "cell_type": "code",
   "execution_count": null,
   "metadata": {},
   "outputs": [],
   "source": [
    "df.to_csv('csv/dataset.csv', index=False)\n",
    "\n",
    "\n"
   ]
  },
  {
   "cell_type": "code",
   "execution_count": null,
   "metadata": {},
   "outputs": [],
   "source": [
    "df.head()"
   ]
  },
  {
   "cell_type": "code",
   "execution_count": null,
   "metadata": {},
   "outputs": [],
   "source": [
    "profile = ProfileReport(df, title=\"Profiling Report\")\n",
    "profile.to_file(\"your_reportXD167.html\")"
   ]
  },
  {
   "cell_type": "markdown",
   "metadata": {},
   "source": []
  },
  {
   "cell_type": "markdown",
   "metadata": {},
   "source": [
    "df.to_csv('csv/uspevaemost1000.csv', index=False)"
   ]
  }
 ],
 "metadata": {
  "kernelspec": {
   "display_name": "Python 3",
   "language": "python",
   "name": "python3"
  },
  "language_info": {
   "codemirror_mode": {
    "name": "ipython",
    "version": 3
   },
   "file_extension": ".py",
   "mimetype": "text/x-python",
   "name": "python",
   "nbconvert_exporter": "python",
   "pygments_lexer": "ipython3",
   "version": "3.11.6"
  },
  "orig_nbformat": 4
 },
 "nbformat": 4,
 "nbformat_minor": 2
}
