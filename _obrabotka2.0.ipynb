{
 "cells": [
  {
   "cell_type": "code",
   "execution_count": 326,
   "metadata": {},
   "outputs": [],
   "source": [
    "import pandas as pd\n",
    "# from ydata_profiling import ProfileReport"
   ]
  },
  {
   "cell_type": "code",
   "execution_count": 327,
   "metadata": {},
   "outputs": [],
   "source": [
    "df = pd.read_csv('csv/uspevaemost.csv', encoding='cp1251')\n"
   ]
  },
  {
   "cell_type": "code",
   "execution_count": 328,
   "metadata": {},
   "outputs": [],
   "source": [
    "df = df[df['Статус'] == 'Отчисленный']\n",
    "df = df[df['Квалификация'] == 'Бакалавр']\n",
    "df = df[df['Форма обучения'] == 'Очная']"
   ]
  },
  {
   "cell_type": "code",
   "execution_count": 329,
   "metadata": {},
   "outputs": [
    {
     "name": "stdout",
     "output_type": "stream",
     "text": [
      "(1536,)\n"
     ]
    }
   ],
   "source": [
    "df['sem_start'] = df['Учебный год'].str[:4]\n",
    "df['sem_end'] = df['Учебный год'].str[5:]\n",
    "\n",
    "df_years = df.groupby(['Студент']).agg({'sem_start': 'min', 'sem_end': 'max'})\n",
    "\n",
    "df_kol_let = (df_years['sem_end']).astype('int16') - (df_years['sem_start']).astype('int16')\n",
    "print(df_kol_let.shape)\n",
    "(df_kol_let <= 4).sum()\n",
    "\n",
    "df_kol_let = df_kol_let[df_kol_let > 4]\n",
    "\n",
    "\n",
    "# df_kol_let = pd.read_csv('TempData.csv')\n",
    "\n"
   ]
  },
  {
   "cell_type": "code",
   "execution_count": 330,
   "metadata": {},
   "outputs": [],
   "source": [
    "df_kol_let.to_frame()\n",
    "\n",
    "df_kol_let.to_csv('TempData.csv', index=True)\n",
    "df_kol_let = pd.read_csv('TempData.csv')\n",
    "\n",
    "df_kol_let.drop(df_kol_let.columns[1], axis=1, inplace=True)\n",
    "\n",
    "df = df.merge(df_kol_let, indicator=True, how='outer').loc[lambda x: x['_merge'] == 'left_only'].drop(columns=['_merge']).drop_duplicates()\n",
    "\n",
    "\n"
   ]
  },
  {
   "cell_type": "code",
   "execution_count": 331,
   "metadata": {},
   "outputs": [],
   "source": [
    "df.to_csv('TempData1.csv', index=False)\n",
    "\n",
    "df.drop_duplicates(inplace=True)\n",
    "\n",
    "df = df[~(df['Оценка'] == 'неудовлетворительно') | \n",
    "        ~(df.duplicated(subset=df.columns.difference(['Оценка']))) ]\n",
    "\n",
    "df['Оценка'] = df['Оценка'].map({\n",
    "    'отлично': 5,\n",
    "    'хорошо': 4,\n",
    "    'удовлетворительно': 3,\n",
    "    'зачтено': 2, \n",
    "    'незачет': 1 \n",
    "})"
   ]
  },
  {
   "cell_type": "code",
   "execution_count": 332,
   "metadata": {},
   "outputs": [],
   "source": [
    "df.drop('Статус', axis=1, inplace=True)\n",
    "df.drop('Группа', axis=1, inplace=True)\n",
    "df.drop('Специальность', axis=1, inplace=True)\n",
    "df.drop('Квалификация', axis=1, inplace=True)"
   ]
  },
  {
   "cell_type": "code",
   "execution_count": 334,
   "metadata": {},
   "outputs": [],
   "source": [
    "df_max = df.groupby(['Студент', 'Учебный год', 'Дисциплина', 'Семестр']).agg({'Оценка': 'max'})\n",
    "df_min = df.groupby(['Студент', 'Учебный год', 'Дисциплина', 'Семестр']).agg({'Оценка': 'min'})\n",
    "\n",
    "df = df_max.merge(df_min, on=['Студент', 'Учебный год', 'Дисциплина', 'Семестр'])\n",
    "\n",
    "df.sort_values(by=['Студент',\"Учебный год\", 'Семестр'], inplace=True)"
   ]
  },
  {
   "cell_type": "code",
   "execution_count": 338,
   "metadata": {},
   "outputs": [
    {
     "data": {
      "text/html": [
       "<div>\n",
       "<style scoped>\n",
       "    .dataframe tbody tr th:only-of-type {\n",
       "        vertical-align: middle;\n",
       "    }\n",
       "\n",
       "    .dataframe tbody tr th {\n",
       "        vertical-align: top;\n",
       "    }\n",
       "\n",
       "    .dataframe thead th {\n",
       "        text-align: right;\n",
       "    }\n",
       "</style>\n",
       "<table border=\"1\" class=\"dataframe\">\n",
       "  <thead>\n",
       "    <tr style=\"text-align: right;\">\n",
       "      <th></th>\n",
       "      <th></th>\n",
       "      <th></th>\n",
       "      <th></th>\n",
       "      <th>Оценка_x</th>\n",
       "      <th>Оценка_y</th>\n",
       "    </tr>\n",
       "    <tr>\n",
       "      <th>Студент</th>\n",
       "      <th>Учебный год</th>\n",
       "      <th>Дисциплина</th>\n",
       "      <th>Семестр</th>\n",
       "      <th></th>\n",
       "      <th></th>\n",
       "    </tr>\n",
       "  </thead>\n",
       "  <tbody>\n",
       "    <tr>\n",
       "      <th rowspan=\"5\" valign=\"top\">2B41566C72437872494D356F7673772B4731724C4D413D3D</th>\n",
       "      <th rowspan=\"5\" valign=\"top\">2015/2016</th>\n",
       "      <th>Введение в инженерную деятельность</th>\n",
       "      <th>1</th>\n",
       "      <td>2</td>\n",
       "      <td>2</td>\n",
       "    </tr>\n",
       "    <tr>\n",
       "      <th>Иностранный язык (английский)</th>\n",
       "      <th>1</th>\n",
       "      <td>2</td>\n",
       "      <td>2</td>\n",
       "    </tr>\n",
       "    <tr>\n",
       "      <th>Информатика 1.1</th>\n",
       "      <th>1</th>\n",
       "      <td>2</td>\n",
       "      <td>2</td>\n",
       "    </tr>\n",
       "    <tr>\n",
       "      <th>История</th>\n",
       "      <th>1</th>\n",
       "      <td>4</td>\n",
       "      <td>4</td>\n",
       "    </tr>\n",
       "    <tr>\n",
       "      <th>Математика 1.1</th>\n",
       "      <th>1</th>\n",
       "      <td>3</td>\n",
       "      <td>3</td>\n",
       "    </tr>\n",
       "    <tr>\n",
       "      <th>...</th>\n",
       "      <th>...</th>\n",
       "      <th>...</th>\n",
       "      <th>...</th>\n",
       "      <td>...</td>\n",
       "      <td>...</td>\n",
       "    </tr>\n",
       "    <tr>\n",
       "      <th rowspan=\"5\" valign=\"top\">2B4157422F3966352B2B56416A59384534744C6A39513D3D</th>\n",
       "      <th rowspan=\"5\" valign=\"top\">2016/2017</th>\n",
       "      <th>Иностранный язык (английский)</th>\n",
       "      <th>4</th>\n",
       "      <td>4</td>\n",
       "      <td>4</td>\n",
       "    </tr>\n",
       "    <tr>\n",
       "      <th>Материаловедение и технология конструкционных материалов</th>\n",
       "      <th>4</th>\n",
       "      <td>4</td>\n",
       "      <td>4</td>\n",
       "    </tr>\n",
       "    <tr>\n",
       "      <th>Метрология, стандартизация и сертификация 1.1</th>\n",
       "      <th>4</th>\n",
       "      <td>2</td>\n",
       "      <td>2</td>\n",
       "    </tr>\n",
       "    <tr>\n",
       "      <th>Механика 2.2</th>\n",
       "      <th>4</th>\n",
       "      <td>4</td>\n",
       "      <td>2</td>\n",
       "    </tr>\n",
       "    <tr>\n",
       "      <th>Творческий проект</th>\n",
       "      <th>4</th>\n",
       "      <td>2</td>\n",
       "      <td>2</td>\n",
       "    </tr>\n",
       "  </tbody>\n",
       "</table>\n",
       "<p>100 rows × 2 columns</p>\n",
       "</div>"
      ],
      "text/plain": [
       "                                                                                                                         Оценка_x  \\\n",
       "Студент                                          Учебный год Дисциплина                                         Семестр             \n",
       "2B41566C72437872494D356F7673772B4731724C4D413D3D 2015/2016   Введение в инженерную деятельность                 1               2   \n",
       "                                                             Иностранный язык (английский)                      1               2   \n",
       "                                                             Информатика 1.1                                    1               2   \n",
       "                                                             История                                            1               4   \n",
       "                                                             Математика 1.1                                     1               3   \n",
       "...                                                                                                                           ...   \n",
       "2B4157422F3966352B2B56416A59384534744C6A39513D3D 2016/2017   Иностранный язык (английский)                      4               4   \n",
       "                                                             Материаловедение и технология конструкционных м... 4               4   \n",
       "                                                             Метрология, стандартизация и сертификация 1.1      4               2   \n",
       "                                                             Механика 2.2                                       4               4   \n",
       "                                                             Творческий проект                                  4               2   \n",
       "\n",
       "                                                                                                                         Оценка_y  \n",
       "Студент                                          Учебный год Дисциплина                                         Семестр            \n",
       "2B41566C72437872494D356F7673772B4731724C4D413D3D 2015/2016   Введение в инженерную деятельность                 1               2  \n",
       "                                                             Иностранный язык (английский)                      1               2  \n",
       "                                                             Информатика 1.1                                    1               2  \n",
       "                                                             История                                            1               4  \n",
       "                                                             Математика 1.1                                     1               3  \n",
       "...                                                                                                                           ...  \n",
       "2B4157422F3966352B2B56416A59384534744C6A39513D3D 2016/2017   Иностранный язык (английский)                      4               4  \n",
       "                                                             Материаловедение и технология конструкционных м... 4               4  \n",
       "                                                             Метрология, стандартизация и сертификация 1.1      4               2  \n",
       "                                                             Механика 2.2                                       4               2  \n",
       "                                                             Творческий проект                                  4               2  \n",
       "\n",
       "[100 rows x 2 columns]"
      ]
     },
     "execution_count": 338,
     "metadata": {},
     "output_type": "execute_result"
    }
   ],
   "source": [
    "df.head(100)"
   ]
  }
 ],
 "metadata": {
  "kernelspec": {
   "display_name": "Python 3",
   "language": "python",
   "name": "python3"
  },
  "language_info": {
   "codemirror_mode": {
    "name": "ipython",
    "version": 3
   },
   "file_extension": ".py",
   "mimetype": "text/x-python",
   "name": "python",
   "nbconvert_exporter": "python",
   "pygments_lexer": "ipython3",
   "version": "3.11.6"
  }
 },
 "nbformat": 4,
 "nbformat_minor": 2
}
