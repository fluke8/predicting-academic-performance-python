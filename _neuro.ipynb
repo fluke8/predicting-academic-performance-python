{
 "cells": [
  {
   "cell_type": "code",
   "execution_count": 55,
   "metadata": {},
   "outputs": [],
   "source": [
    "from sklearn.model_selection import train_test_split\n",
    "from sklearn.preprocessing import StandardScaler\n",
    "from sklearn.linear_model import Perceptron\n",
    "from sklearn.metrics import accuracy_score\n",
    "import numpy as np\n",
    "import numpy as np\n",
    "import matplotlib.pyplot as plt\n",
    "\n",
    "import pandas as pd\n",
    "from sklearn.neural_network import MLPClassifier\n",
    "from sklearn.linear_model import LogisticRegression\n",
    "from sklearn.metrics import  precision_score, recall_score, f1_score, classification_report\n",
    "from sklearn.metrics import confusion_matrix\n",
    "from catboost import CatBoostClassifier\n",
    "# import lightgbm as lgb\n",
    "# import xgboost as xgb"
   ]
  },
  {
   "cell_type": "markdown",
   "metadata": {},
   "source": [
    "from sklearn.dummy import DummyClassifier"
   ]
  },
  {
   "cell_type": "code",
   "execution_count": 56,
   "metadata": {},
   "outputs": [],
   "source": [
    "dataset = pd.read_csv('csv/dataset1.csv')\n",
    "dataset = dataset[dataset['Квалификация'] != 3]\n",
    "dataset = dataset[dataset['Квалификация'] != 4]\n",
    "dataset.drop('Учебный год', axis=1, inplace=True)\n",
    "data = dataset.iloc[:, :-1]\n",
    "target = dataset.iloc[:, -1]\n",
    "\n",
    "X_train, X_test, y_train, y_test = train_test_split(data, target, test_size=0.99)\n",
    "\n",
    "sc = StandardScaler()\n",
    "sc.fit(X_train)\n",
    "X_train_std = sc.transform(X_train)\n",
    "X_test_std = sc.transform(X_test)"
   ]
  },
  {
   "cell_type": "markdown",
   "metadata": {},
   "source": [
    "clf = DummyClassifier(strategy='most_frequent')\n",
    "clf.fit(X_train, y_train)"
   ]
  },
  {
   "cell_type": "markdown",
   "metadata": {},
   "source": [
    "y_pred = clf.predict(X_test)\n",
    "print(\"Число ошибочно классифицированных образцов DummyClassifier: % d\" % (y_test != y_pred).sum())\n",
    "print(accuracy_score(y_test, y_pred))\n",
    "print(classification_report(y_test, y_pred, target_names=target_name))\n",
    "\n",
    "print()\n",
    "print('Логик регрессион')\n",
    "print('Вероятность моего отчисления за первый семестр:',clf.predict(pd.read_csv('uspevaemost_nakop_My.csv').iloc[:1,:])[:, 1] * 100)\n",
    "print('Вероятность моего отчисления за второй семестр:',clf.predict(pd.read_csv('uspevaemost_nakop_My.csv').iloc[1:2,:])[:, 1] * 100)\n",
    "print('Вероятность моего отчисления за третий семестр:',clf.predict(pd.read_csv('uspevaemost_nakop_My.csv').iloc[2:3,:])[:, 1] * 100)\n",
    "print('Вероятность моего отчисления за четвертый семестр:',clf.predict(pd.read_csv('uspevaemost_nakop_My.csv').iloc[3:4,:])[:, 1] * 100)\n",
    "print()"
   ]
  },
  {
   "cell_type": "code",
   "execution_count": 57,
   "metadata": {},
   "outputs": [
    {
     "name": "stdout",
     "output_type": "stream",
     "text": [
      "                 precision    recall  f1-score   support\n",
      "\n",
      "0 - не отчислен       0.90      0.95      0.92     15691\n",
      "       Отчислен       0.29      0.16      0.20      1995\n",
      "\n",
      "       accuracy                           0.86     17686\n",
      "      macro avg       0.59      0.55      0.56     17686\n",
      "   weighted avg       0.83      0.86      0.84     17686\n",
      "\n",
      "0.8614723510121\n"
     ]
    },
    {
     "data": {
      "text/plain": [
       "array([[14925,   766],\n",
       "       [ 1684,   311]], dtype=int64)"
      ]
     },
     "execution_count": 57,
     "metadata": {},
     "output_type": "execute_result"
    }
   ],
   "source": [
    "lr = LogisticRegression(C=1000.0, max_iter=1000000000)\n",
    "lr.fit(X_train, y_train)\n",
    "y_pred = lr.predict(X_test)\n",
    "\n",
    "target_name = ['0 - не отчислен', 'Отчислен']\n",
    "print(classification_report(y_test, y_pred, target_names=target_name))\n",
    "print(accuracy_score(y_test, y_pred))\n",
    "confusion_matrix(y_test, y_pred)\n",
    "\n",
    "# print('Логик регрессион')\n",
    "# print('Вероятность моего отчисления за первый семестр:',lr.predict_proba(pd.read_csv('csv/uspevaemost_nakop_My.csv').iloc[:1,:])[:, 1] * 100)\n",
    "# print('Вероятность моего отчисления за второй семестр:',lr.predict_proba(pd.read_csv('csv/uspevaemost_nakop_My.csv').iloc[1:2,:])[:, 1] * 100)\n",
    "# print('Вероятность моего отчисления за третий семестр:',lr.predict_proba(pd.read_csv('csv/uspevaemost_nakop_My.csv').iloc[2:3,:])[:, 1] * 100)\n",
    "# print('Вероятность моего отчисления за четвертый семестр:',lr.predict_proba(pd.read_csv('csv/uspevaemost_nakop_My.csv').iloc[3:4,:])[:, 1] * 100)\n"
   ]
  },
  {
   "cell_type": "code",
   "execution_count": 58,
   "metadata": {},
   "outputs": [],
   "source": [
    "# best = np.zeros([3])\n",
    "\n",
    "\n",
    "\n",
    "# for i in range(1, 15):\n",
    "#         for j in range(1, 3):\n",
    "#             model = CatBoostClassifier(iterations=1000, devices='0:1', depth=i,        # Глубина деревьев\n",
    "#                                     learning_rate=1/(10**j),  # Скорость обучения\n",
    "#                                     loss_function='Logloss',  # Функция потерь для задачи классификации\n",
    "#                                     logging_level='Silent')\n",
    "#             model.fit(X_train_std, y_train)\n",
    "\n",
    "#             y_pred = model.predict(X_test_std)\n",
    "\n",
    "#             accuracy = accuracy_score(y_test, y_pred)\n",
    "#             report = classification_report(y_test, y_pred)\n",
    "\n",
    "#             info = np.array([f'Глубина {i}', f'Скорость обучения {1/(10**j)}', accuracy])\n",
    "#             print(info)\n",
    "#             best = np.vstack((best, info))\n",
    "\n",
    "# max_row_index = np.argmax(best[:, 2])\n",
    "\n",
    "# # Extract the row with the maximum value\n",
    "# max_row = best[max_row_index, :]\n",
    "\n",
    "# print(\"Row with the maximum value in column {}: {}\".format(2, max_row))\n"
   ]
  },
  {
   "cell_type": "code",
   "execution_count": 59,
   "metadata": {},
   "outputs": [
    {
     "name": "stdout",
     "output_type": "stream",
     "text": [
      "0.8636209431188511\n",
      "              precision    recall  f1-score   support\n",
      "\n",
      "           0       0.90      0.95      0.93     15691\n",
      "           1       0.32      0.19      0.24      1995\n",
      "\n",
      "    accuracy                           0.86     17686\n",
      "   macro avg       0.61      0.57      0.58     17686\n",
      "weighted avg       0.84      0.86      0.85     17686\n",
      "\n"
     ]
    }
   ],
   "source": [
    "model = CatBoostClassifier(iterations=1000, devices='0:1', depth=5,        # Глубина деревьев\n",
    "                                    learning_rate=0.1,  # Скорость обучения\n",
    "                                    loss_function='Logloss',  # Функция потерь для задачи классификации\n",
    "                                    logging_level='Silent')\n",
    "model.fit(X_train_std, y_train)\n",
    "\n",
    "y_pred = model.predict(X_test_std)\n",
    "\n",
    "accuracy = accuracy_score(y_test, y_pred)\n",
    "report = classification_report(y_test, y_pred)\n",
    "print(accuracy)\n",
    "\n",
    "print(report)"
   ]
  },
  {
   "cell_type": "code",
   "execution_count": 60,
   "metadata": {},
   "outputs": [
    {
     "data": {
      "text/plain": [
       "array([[14897,   794],\n",
       "       [ 1618,   377]], dtype=int64)"
      ]
     },
     "execution_count": 60,
     "metadata": {},
     "output_type": "execute_result"
    }
   ],
   "source": [
    "confusion_matrix(y_test, y_pred)\n"
   ]
  },
  {
   "cell_type": "code",
   "execution_count": 61,
   "metadata": {},
   "outputs": [
    {
     "name": "stdout",
     "output_type": "stream",
     "text": [
      "Вероятность моего отчисления за первый семестр: [0.05984984]\n",
      "Вероятность моего отчисления за второй семестр: [1.74597649]\n",
      "Вероятность моего отчисления за третий семестр: [1.82041207]\n",
      "Вероятность моего отчисления за четвертый семестр: [0.28999299]\n"
     ]
    }
   ],
   "source": [
    "print('Вероятность моего отчисления за первый семестр:',model.predict_proba(pd.read_csv('csv/uspevaemost_nakop_My.csv').iloc[:1,:])[:, 1] * 100)\n",
    "print('Вероятность моего отчисления за второй семестр:',model.predict_proba(pd.read_csv('csv/uspevaemost_nakop_My.csv').iloc[1:2,:])[:, 1] * 100)\n",
    "print('Вероятность моего отчисления за третий семестр:',model.predict_proba(pd.read_csv('csv/uspevaemost_nakop_My.csv').iloc[2:3,:])[:, 1] * 100)\n",
    "print('Вероятность моего отчисления за четвертый семестр:',model.predict_proba(pd.read_csv('csv/uspevaemost_nakop_My.csv').iloc[3:4,:])[:, 1] * 100)"
   ]
  },
  {
   "cell_type": "markdown",
   "metadata": {},
   "source": [
    "sum(y_pred == 1)"
   ]
  },
  {
   "cell_type": "markdown",
   "metadata": {},
   "source": [
    "from sklearn.tree import DecisionTreeClassifier\n",
    "tree_classifier = DecisionTreeClassifier()\n",
    "tree_classifier.fit(X_train_std, y_train)\n",
    "\n",
    "# Make predictions\n",
    "tree_predictions = tree_classifier.predict(X_test_std)\n",
    "\n",
    "# Evaluate the model\n",
    "tree_accuracy = accuracy_score(y_test, tree_predictions)\n",
    "print(f\"Decision Tree Accuracy: {tree_accuracy}\")\n",
    "\n",
    "report = classification_report(y_test,  tree_predictions)\n",
    "print(report)\n",
    "confusion_matrix(y_test, tree_predictions)"
   ]
  },
  {
   "cell_type": "markdown",
   "metadata": {},
   "source": [
    "from sklearn.ensemble import RandomForestClassifier\n",
    "\n",
    "# Create and train a random forest classifier\n",
    "rf_classifier = RandomForestClassifier(n_estimators=100)\n",
    "rf_classifier.fit(X_train, y_train)\n",
    "\n",
    "# Make predictions\n",
    "rf_predictions = rf_classifier.predict(X_test)\n",
    "\n",
    "# Evaluate the model\n",
    "rf_accuracy = accuracy_score(y_test, rf_predictions)\n",
    "print(f\"Random Forest Accuracy: {rf_accuracy}\")\n",
    "report = classification_report(y_test, y_pred)\n",
    "print(report)\n",
    "confusion_matrix(y_test, y_pred)"
   ]
  },
  {
   "cell_type": "markdown",
   "metadata": {},
   "source": [
    "from sklearn.svm import SVC\n",
    "\n",
    "# Create and train an SVM classifier\n",
    "svm_classifier = SVC()\n",
    "svm_classifier.fit(X_train_std, y_train)\n",
    "\n",
    "# Make predictions\n",
    "svm_predictions = svm_classifier.predict(X_test_std)\n",
    "\n",
    "# Evaluate the model\n",
    "svm_accuracy = accuracy_score(y_test, svm_predictions)\n",
    "print(f\"SVM Accuracy: {svm_accuracy}\")\n",
    "report = classification_report(y_test, svm_predictions)\n",
    "print(report)\n",
    "confusion_matrix(y_test, svm_predictions)"
   ]
  },
  {
   "cell_type": "markdown",
   "metadata": {},
   "source": [
    "from sklearn.naive_bayes import GaussianNB\n",
    "\n",
    "\n",
    "    \n",
    "\n",
    "# Create and train a Gaussian Naive Bayes classifier\n",
    "nb_classifier = GaussianNB()\n",
    "nb_classifier.fit(X_train_std, y_train)\n",
    "\n",
    "# Make predictions\n",
    "nb_predictions = nb_classifier.predict(X_test_std)\n",
    "\n",
    "# Evaluate the model\n",
    "nb_accuracy = accuracy_score(y_test, nb_predictions)\n",
    "print(f\"Naive Bayes Accuracy: {nb_accuracy}\")\n",
    "report = classification_report(y_test, nb_predictions)\n",
    "print(report)\n",
    "confusion_matrix(y_test, nb_predictions)"
   ]
  },
  {
   "cell_type": "markdown",
   "metadata": {},
   "source": [
    "from sklearn.neighbors import KNeighborsClassifier\n",
    "\n",
    "# Create and train a KNN classifier with k=5 (you can adjust k)\n",
    "for i in range(1, 10):\n",
    "    knn_classifier = KNeighborsClassifier(n_neighbors=i)\n",
    "    knn_classifier.fit(X_train_std, y_train)\n",
    "\n",
    "    # Make predictions\n",
    "    knn_predictions = knn_classifier.predict(X_test_std)\n",
    "\n",
    "    # Evaluate the model\n",
    "    knn_accuracy = accuracy_score(y_test, knn_predictions)\n",
    "    print(f\"KNN Accuracy: {knn_accuracy}\")\n",
    "    report = classification_report(y_test, knn_predictions)\n",
    "    print(report)\n",
    "    confusion_matrix(y_test, knn_predictions)"
   ]
  },
  {
   "cell_type": "markdown",
   "metadata": {},
   "source": [
    "Row with the maximum value in column 2: ['Глубина 10' 'Скорость обучения 0.01' '0.9127774864534173']"
   ]
  },
  {
   "cell_type": "markdown",
   "metadata": {},
   "source": [
    "import numpy as np\n",
    "\n",
    "# Create an initial NumPy array\n",
    "arr = np.array([1, 2, 3])\n",
    "\n",
    "# Append a single element\n",
    "\n",
    "\n",
    "# Append multiple elements (as a list)\n",
    "new_elements = [5, 6, 7]\n",
    "arr = np.vstack((arr, new_elements))\n",
    "\n",
    "print(arr)"
   ]
  },
  {
   "cell_type": "markdown",
   "metadata": {},
   "source": [
    "train_data = lgb.Dataset(X_train_std, label=y_train)\n",
    "test_data = lgb.Dataset(X_test_std, label=y_test, reference=train_data)\n",
    "\n",
    "# Определяем параметры модели\n",
    "params = {\n",
    "    'objective': 'binary',  # для задачи бинарной классификации\n",
    "    'boosting_type': 'gbdt',\n",
    "    'metric': 'binary_logloss',  # метрика качества\n",
    "    'num_leaves': 50,\n",
    "    'learning_rate': 0.01,\n",
    "    'feature_fraction': 0.9\n",
    "}\n",
    "\n",
    "# Обучаем модель\n",
    "num_round = 1000  # количество итераций обучения\n",
    "bst = lgb.train(params, train_data, num_round, valid_sets=[test_data])\n",
    "\n",
    "# Предсказываем на тестовом наборе данных\n",
    "y_pred = bst.predict(X_test_std, num_iteration=bst.best_iteration)\n",
    "\n",
    "# Оцениваем качество модели\n",
    "y_pred_binary = np.round(y_pred)  # преобразуем вероятности в бинарные предсказания\n",
    "accuracy = accuracy_score(y_test, y_pred_binary)\n",
    "print(f'Accuracy: {accuracy}')\n",
    "print('Classification Report:')\n",
    "print(report)\n",
    "confusion_matrix(y_test, y_pred_binary)"
   ]
  },
  {
   "cell_type": "markdown",
   "metadata": {},
   "source": [
    "params = {\n",
    "    'objective': 'binary:logistic',  # для задачи бинарной классификации\n",
    "    'max_depth': 3,\n",
    "    'learning_rate': 0.1,\n",
    "    'n_estimators': 1000,\n",
    "    'eval_metric': 'logloss'\n",
    "}\n",
    "\n",
    "# Создаем объект DMatrix для данных\n",
    "train_data = xgb.DMatrix(X_train_std, label=y_train)\n",
    "test_data = xgb.DMatrix(X_test_std, label=y_test)\n",
    "\n",
    "# Обучаем модель с ранней остановкой (early stopping)\n",
    "watchlist = [(test_data, 'eval'), (train_data, 'train')]\n",
    "num_round = 1000  # большое количество итераций\n",
    "bst = xgb.train(params, train_data, num_round, evals=watchlist, early_stopping_rounds=10)\n",
    "\n",
    "# Предсказываем на тестовом наборе данных\n",
    "y_pred = bst.predict(test_data)\n",
    "\n",
    "# Оцениваем качество модели\n",
    "y_pred_binary = np.round(y_pred)  # преобразуем вероятности в бинарные предсказания\n",
    "accuracy = accuracy_score(y_test, y_pred_binary)\n",
    "print(f'Accuracy: {accuracy}')\n",
    "print('Classification Report:')\n",
    "print(report)\n",
    "confusion_matrix(y_test, y_pred_binary)"
   ]
  },
  {
   "cell_type": "markdown",
   "metadata": {},
   "source": [
    "y_test[y_test == 1].shape"
   ]
  },
  {
   "cell_type": "markdown",
   "metadata": {},
   "source": [
    "sum(y_pred == 1)"
   ]
  },
  {
   "cell_type": "markdown",
   "metadata": {},
   "source": [
    "for column, coef in zip(data.columns, lr.coef_[0]):\n",
    "    print(f'Важность признака {column} равна {coef}')\n"
   ]
  }
 ],
 "metadata": {
  "kernelspec": {
   "display_name": "Python 3",
   "language": "python",
   "name": "python3"
  },
  "language_info": {
   "codemirror_mode": {
    "name": "ipython",
    "version": 3
   },
   "file_extension": ".py",
   "mimetype": "text/x-python",
   "name": "python",
   "nbconvert_exporter": "python",
   "pygments_lexer": "ipython3",
   "version": "3.11.5"
  },
  "orig_nbformat": 4
 },
 "nbformat": 4,
 "nbformat_minor": 2
}
