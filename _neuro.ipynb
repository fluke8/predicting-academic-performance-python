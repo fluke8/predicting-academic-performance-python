{
 "cells": [
  {
   "cell_type": "code",
   "execution_count": 1,
   "metadata": {},
   "outputs": [],
   "source": [
    "from sklearn.model_selection import train_test_split\n",
    "from sklearn.preprocessing import StandardScaler\n",
    "from sklearn.linear_model import Perceptron\n",
    "from sklearn.metrics import accuracy_score\n",
    "import numpy as np\n",
    "import numpy as np\n",
    "import matplotlib.pyplot as plt\n",
    "\n",
    "import pandas as pd\n",
    "from sklearn.neural_network import MLPClassifier\n",
    "from sklearn.linear_model import LogisticRegression\n",
    "from sklearn.metrics import  precision_score, recall_score, f1_score, classification_report\n",
    "from sklearn.metrics import confusion_matrix\n",
    "from catboost import CatBoostClassifier\n",
    "# import lightgbm as lgb\n",
    "# import xgboost as xgb"
   ]
  },
  {
   "cell_type": "markdown",
   "metadata": {},
   "source": [
    "from sklearn.dummy import DummyClassifier"
   ]
  },
  {
   "cell_type": "code",
   "execution_count": 2,
   "metadata": {},
   "outputs": [],
   "source": [
    "dataset = pd.read_csv('csv/dataset.csv')\n",
    "dataset = dataset[dataset['Квалификация'] != 3]\n",
    "dataset = dataset[dataset['Квалификация'] != 4]\n",
    "data = dataset.iloc[:, :-1]\n",
    "target = dataset.iloc[:, -1]\n",
    "\n",
    "X_train, X_test, y_train, y_test = train_test_split(data, target, test_size=0.3)\n",
    "\n",
    "sc = StandardScaler()\n",
    "sc.fit(X_train)\n",
    "X_train_std = sc.transform(X_train)\n",
    "X_test_std = sc.transform(X_test)"
   ]
  },
  {
   "cell_type": "markdown",
   "metadata": {},
   "source": [
    "clf = DummyClassifier(strategy='most_frequent')\n",
    "clf.fit(X_train, y_train)"
   ]
  },
  {
   "cell_type": "markdown",
   "metadata": {},
   "source": [
    "y_pred = clf.predict(X_test)\n",
    "print(\"Число ошибочно классифицированных образцов DummyClassifier: % d\" % (y_test != y_pred).sum())\n",
    "print(accuracy_score(y_test, y_pred))\n",
    "print(classification_report(y_test, y_pred, target_names=target_name))\n",
    "\n",
    "print()\n",
    "print('Логик регрессион')\n",
    "print('Вероятность моего отчисления за первый семестр:',clf.predict(pd.read_csv('uspevaemost_nakop_My.csv').iloc[:1,:])[:, 1] * 100)\n",
    "print('Вероятность моего отчисления за второй семестр:',clf.predict(pd.read_csv('uspevaemost_nakop_My.csv').iloc[1:2,:])[:, 1] * 100)\n",
    "print('Вероятность моего отчисления за третий семестр:',clf.predict(pd.read_csv('uspevaemost_nakop_My.csv').iloc[2:3,:])[:, 1] * 100)\n",
    "print('Вероятность моего отчисления за четвертый семестр:',clf.predict(pd.read_csv('uspevaemost_nakop_My.csv').iloc[3:4,:])[:, 1] * 100)\n",
    "print()"
   ]
  },
  {
   "cell_type": "code",
   "execution_count": 3,
   "metadata": {},
   "outputs": [
    {
     "name": "stdout",
     "output_type": "stream",
     "text": [
      "                 precision    recall  f1-score   support\n",
      "\n",
      "0 - не отчислен       0.90      0.99      0.94      4764\n",
      "       Отчислен       0.64      0.16      0.26       642\n",
      "\n",
      "       accuracy                           0.89      5406\n",
      "      macro avg       0.77      0.58      0.60      5406\n",
      "   weighted avg       0.87      0.89      0.86      5406\n",
      "\n",
      "0.889937106918239\n"
     ]
    },
    {
     "data": {
      "text/plain": [
       "array([[4706,   58],\n",
       "       [ 537,  105]], dtype=int64)"
      ]
     },
     "execution_count": 3,
     "metadata": {},
     "output_type": "execute_result"
    }
   ],
   "source": [
    "lr = LogisticRegression(C=1000.0, max_iter=1000000000)\n",
    "lr.fit(X_train, y_train)\n",
    "y_pred = lr.predict(X_test)\n",
    "\n",
    "target_name = ['0 - не отчислен', 'Отчислен']\n",
    "print(classification_report(y_test, y_pred, target_names=target_name))\n",
    "print(accuracy_score(y_test, y_pred))\n",
    "confusion_matrix(y_test, y_pred)\n",
    "\n",
    "# print('Логик регрессион')\n",
    "# print('Вероятность моего отчисления за первый семестр:',lr.predict_proba(pd.read_csv('csv/uspevaemost_nakop_My.csv').iloc[:1,:])[:, 1] * 100)\n",
    "# print('Вероятность моего отчисления за второй семестр:',lr.predict_proba(pd.read_csv('csv/uspevaemost_nakop_My.csv').iloc[1:2,:])[:, 1] * 100)\n",
    "# print('Вероятность моего отчисления за третий семестр:',lr.predict_proba(pd.read_csv('csv/uspevaemost_nakop_My.csv').iloc[2:3,:])[:, 1] * 100)\n",
    "# print('Вероятность моего отчисления за четвертый семестр:',lr.predict_proba(pd.read_csv('csv/uspevaemost_nakop_My.csv').iloc[3:4,:])[:, 1] * 100)\n"
   ]
  },
  {
   "cell_type": "code",
   "execution_count": 22,
   "metadata": {},
   "outputs": [
    {
     "name": "stdout",
     "output_type": "stream",
     "text": [
      "['Глубина 1' 'Скорость обучения 0.1' '0.891416944136145']\n",
      "['Глубина 1' 'Скорость обучения 0.01' '0.8827229004809471']\n",
      "['Глубина 2' 'Скорость обучения 0.1' '0.8986311505734369']\n",
      "['Глубина 2' 'Скорость обучения 0.01' '0.8893821679615243']\n",
      "['Глубина 3' 'Скорость обучения 0.1' '0.8984461709211987']\n",
      "['Глубина 3' 'Скорость обучения 0.01' '0.8934517203107658']\n",
      "['Глубина 4' 'Скорость обучения 0.1' '0.9025157232704403']\n",
      "['Глубина 4' 'Скорость обучения 0.01' '0.8956714761376249']\n",
      "['Глубина 5' 'Скорость обучения 0.1' '0.9028856825749167']\n",
      "['Глубина 5' 'Скорость обучения 0.01' '0.8967813540510544']\n",
      "['Глубина 6' 'Скорость обучения 0.1' '0.9002959674435812']\n",
      "['Глубина 6' 'Скорость обучения 0.01' '0.8982611912689604']\n",
      "['Глубина 7' 'Скорость обучения 0.1' '0.902330743618202']\n",
      "['Глубина 7' 'Скорость обучения 0.01' '0.8997410284868664']\n",
      "['Глубина 8' 'Скорость обучения 0.1' '0.8980762116167221']\n",
      "['Глубина 8' 'Скорость обучения 0.01' '0.9002959674435812']\n",
      "['Глубина 9' 'Скорость обучения 0.1' '0.8967813540510544']\n",
      "['Глубина 9' 'Скорость обучения 0.01' '0.9019607843137255']\n",
      "['Глубина 10' 'Скорость обучения 0.1' '0.8964113947465778']\n"
     ]
    },
    {
     "ename": "KeyboardInterrupt",
     "evalue": "",
     "output_type": "error",
     "traceback": [
      "\u001b[1;31m---------------------------------------------------------------------------\u001b[0m",
      "\u001b[1;31mKeyboardInterrupt\u001b[0m                         Traceback (most recent call last)",
      "\u001b[1;32mc:\\Users\\fluke\\Documents\\Code\\predicting-academic-performance-python\\_neuro.ipynb Cell 7\u001b[0m line \u001b[0;36m1\n\u001b[0;32m      <a href='vscode-notebook-cell:/c%3A/Users/fluke/Documents/Code/predicting-academic-performance-python/_neuro.ipynb#X53sZmlsZQ%3D%3D?line=5'>6</a>\u001b[0m \u001b[39mfor\u001b[39;00m j \u001b[39min\u001b[39;00m \u001b[39mrange\u001b[39m(\u001b[39m1\u001b[39m, \u001b[39m3\u001b[39m):\n\u001b[0;32m      <a href='vscode-notebook-cell:/c%3A/Users/fluke/Documents/Code/predicting-academic-performance-python/_neuro.ipynb#X53sZmlsZQ%3D%3D?line=6'>7</a>\u001b[0m     model \u001b[39m=\u001b[39m CatBoostClassifier(iterations\u001b[39m=\u001b[39m\u001b[39m1000\u001b[39m, devices\u001b[39m=\u001b[39m\u001b[39m'\u001b[39m\u001b[39m0:1\u001b[39m\u001b[39m'\u001b[39m, depth\u001b[39m=\u001b[39mi,        \u001b[39m# Глубина деревьев\u001b[39;00m\n\u001b[0;32m      <a href='vscode-notebook-cell:/c%3A/Users/fluke/Documents/Code/predicting-academic-performance-python/_neuro.ipynb#X53sZmlsZQ%3D%3D?line=7'>8</a>\u001b[0m                             learning_rate\u001b[39m=\u001b[39m\u001b[39m1\u001b[39m\u001b[39m/\u001b[39m(\u001b[39m10\u001b[39m\u001b[39m*\u001b[39m\u001b[39m*\u001b[39mj),  \u001b[39m# Скорость обучения\u001b[39;00m\n\u001b[0;32m      <a href='vscode-notebook-cell:/c%3A/Users/fluke/Documents/Code/predicting-academic-performance-python/_neuro.ipynb#X53sZmlsZQ%3D%3D?line=8'>9</a>\u001b[0m                             loss_function\u001b[39m=\u001b[39m\u001b[39m'\u001b[39m\u001b[39mLogloss\u001b[39m\u001b[39m'\u001b[39m,  \u001b[39m# Функция потерь для задачи классификации\u001b[39;00m\n\u001b[0;32m     <a href='vscode-notebook-cell:/c%3A/Users/fluke/Documents/Code/predicting-academic-performance-python/_neuro.ipynb#X53sZmlsZQ%3D%3D?line=9'>10</a>\u001b[0m                             logging_level\u001b[39m=\u001b[39m\u001b[39m'\u001b[39m\u001b[39mSilent\u001b[39m\u001b[39m'\u001b[39m)\n\u001b[1;32m---> <a href='vscode-notebook-cell:/c%3A/Users/fluke/Documents/Code/predicting-academic-performance-python/_neuro.ipynb#X53sZmlsZQ%3D%3D?line=10'>11</a>\u001b[0m     model\u001b[39m.\u001b[39;49mfit(X_train_std, y_train)\n\u001b[0;32m     <a href='vscode-notebook-cell:/c%3A/Users/fluke/Documents/Code/predicting-academic-performance-python/_neuro.ipynb#X53sZmlsZQ%3D%3D?line=12'>13</a>\u001b[0m     y_pred \u001b[39m=\u001b[39m model\u001b[39m.\u001b[39mpredict(X_test_std)\n\u001b[0;32m     <a href='vscode-notebook-cell:/c%3A/Users/fluke/Documents/Code/predicting-academic-performance-python/_neuro.ipynb#X53sZmlsZQ%3D%3D?line=14'>15</a>\u001b[0m     accuracy \u001b[39m=\u001b[39m accuracy_score(y_test, y_pred)\n",
      "File \u001b[1;32m~\\AppData\\Local\\Packages\\PythonSoftwareFoundation.Python.3.11_qbz5n2kfra8p0\\LocalCache\\local-packages\\Python311\\site-packages\\catboost\\core.py:5100\u001b[0m, in \u001b[0;36mCatBoostClassifier.fit\u001b[1;34m(self, X, y, cat_features, text_features, embedding_features, sample_weight, baseline, use_best_model, eval_set, verbose, logging_level, plot, plot_file, column_description, verbose_eval, metric_period, silent, early_stopping_rounds, save_snapshot, snapshot_file, snapshot_interval, init_model, callbacks, log_cout, log_cerr)\u001b[0m\n\u001b[0;32m   5097\u001b[0m \u001b[39mif\u001b[39;00m \u001b[39m'\u001b[39m\u001b[39mloss_function\u001b[39m\u001b[39m'\u001b[39m \u001b[39min\u001b[39;00m params:\n\u001b[0;32m   5098\u001b[0m     CatBoostClassifier\u001b[39m.\u001b[39m_check_is_compatible_loss(params[\u001b[39m'\u001b[39m\u001b[39mloss_function\u001b[39m\u001b[39m'\u001b[39m])\n\u001b[1;32m-> 5100\u001b[0m \u001b[39mself\u001b[39;49m\u001b[39m.\u001b[39;49m_fit(X, y, cat_features, text_features, embedding_features, \u001b[39mNone\u001b[39;49;00m, sample_weight, \u001b[39mNone\u001b[39;49;00m, \u001b[39mNone\u001b[39;49;00m, \u001b[39mNone\u001b[39;49;00m, \u001b[39mNone\u001b[39;49;00m, baseline, use_best_model,\n\u001b[0;32m   5101\u001b[0m           eval_set, verbose, logging_level, plot, plot_file, column_description, verbose_eval, metric_period,\n\u001b[0;32m   5102\u001b[0m           silent, early_stopping_rounds, save_snapshot, snapshot_file, snapshot_interval, init_model, callbacks, log_cout, log_cerr)\n\u001b[0;32m   5103\u001b[0m \u001b[39mreturn\u001b[39;00m \u001b[39mself\u001b[39m\n",
      "File \u001b[1;32m~\\AppData\\Local\\Packages\\PythonSoftwareFoundation.Python.3.11_qbz5n2kfra8p0\\LocalCache\\local-packages\\Python311\\site-packages\\catboost\\core.py:2319\u001b[0m, in \u001b[0;36mCatBoost._fit\u001b[1;34m(self, X, y, cat_features, text_features, embedding_features, pairs, sample_weight, group_id, group_weight, subgroup_id, pairs_weight, baseline, use_best_model, eval_set, verbose, logging_level, plot, plot_file, column_description, verbose_eval, metric_period, silent, early_stopping_rounds, save_snapshot, snapshot_file, snapshot_interval, init_model, callbacks, log_cout, log_cerr)\u001b[0m\n\u001b[0;32m   2315\u001b[0m allow_clear_pool \u001b[39m=\u001b[39m train_params[\u001b[39m\"\u001b[39m\u001b[39mallow_clear_pool\u001b[39m\u001b[39m\"\u001b[39m]\n\u001b[0;32m   2317\u001b[0m \u001b[39mwith\u001b[39;00m log_fixup(log_cout, log_cerr), \\\n\u001b[0;32m   2318\u001b[0m     plot_wrapper(plot, plot_file, \u001b[39m'\u001b[39m\u001b[39mTraining plots\u001b[39m\u001b[39m'\u001b[39m, [_get_train_dir(\u001b[39mself\u001b[39m\u001b[39m.\u001b[39mget_params())]):\n\u001b[1;32m-> 2319\u001b[0m     \u001b[39mself\u001b[39;49m\u001b[39m.\u001b[39;49m_train(\n\u001b[0;32m   2320\u001b[0m         train_pool,\n\u001b[0;32m   2321\u001b[0m         train_params[\u001b[39m\"\u001b[39;49m\u001b[39meval_sets\u001b[39;49m\u001b[39m\"\u001b[39;49m],\n\u001b[0;32m   2322\u001b[0m         params,\n\u001b[0;32m   2323\u001b[0m         allow_clear_pool,\n\u001b[0;32m   2324\u001b[0m         train_params[\u001b[39m\"\u001b[39;49m\u001b[39minit_model\u001b[39;49m\u001b[39m\"\u001b[39;49m]\n\u001b[0;32m   2325\u001b[0m     )\n\u001b[0;32m   2327\u001b[0m \u001b[39m# Have property feature_importance possibly set\u001b[39;00m\n\u001b[0;32m   2328\u001b[0m loss \u001b[39m=\u001b[39m \u001b[39mself\u001b[39m\u001b[39m.\u001b[39m_object\u001b[39m.\u001b[39m_get_loss_function_name()\n",
      "File \u001b[1;32m~\\AppData\\Local\\Packages\\PythonSoftwareFoundation.Python.3.11_qbz5n2kfra8p0\\LocalCache\\local-packages\\Python311\\site-packages\\catboost\\core.py:1723\u001b[0m, in \u001b[0;36m_CatBoostBase._train\u001b[1;34m(self, train_pool, test_pool, params, allow_clear_pool, init_model)\u001b[0m\n\u001b[0;32m   1722\u001b[0m \u001b[39mdef\u001b[39;00m \u001b[39m_train\u001b[39m(\u001b[39mself\u001b[39m, train_pool, test_pool, params, allow_clear_pool, init_model):\n\u001b[1;32m-> 1723\u001b[0m     \u001b[39mself\u001b[39;49m\u001b[39m.\u001b[39;49m_object\u001b[39m.\u001b[39;49m_train(train_pool, test_pool, params, allow_clear_pool, init_model\u001b[39m.\u001b[39;49m_object \u001b[39mif\u001b[39;49;00m init_model \u001b[39melse\u001b[39;49;00m \u001b[39mNone\u001b[39;49;00m)\n\u001b[0;32m   1724\u001b[0m     \u001b[39mself\u001b[39m\u001b[39m.\u001b[39m_set_trained_model_attributes()\n",
      "File \u001b[1;32m_catboost.pyx:4645\u001b[0m, in \u001b[0;36m_catboost._CatBoost._train\u001b[1;34m()\u001b[0m\n",
      "File \u001b[1;32m_catboost.pyx:4694\u001b[0m, in \u001b[0;36m_catboost._CatBoost._train\u001b[1;34m()\u001b[0m\n",
      "\u001b[1;31mKeyboardInterrupt\u001b[0m: "
     ]
    }
   ],
   "source": [
    "best = np.zeros([3])\n",
    "\n",
    "\n",
    "\n",
    "for i in range(1, 15):\n",
    "        for j in range(1, 3):\n",
    "            model = CatBoostClassifier(iterations=1000, devices='0:1', depth=i,        # Глубина деревьев\n",
    "                                    learning_rate=1/(10**j),  # Скорость обучения\n",
    "                                    loss_function='Logloss',  # Функция потерь для задачи классификации\n",
    "                                    logging_level='Silent')\n",
    "            model.fit(X_train_std, y_train)\n",
    "\n",
    "            y_pred = model.predict(X_test_std)\n",
    "\n",
    "            accuracy = accuracy_score(y_test, y_pred)\n",
    "            report = classification_report(y_test, y_pred)\n",
    "\n",
    "            info = np.array([f'Глубина {i}', f'Скорость обучения {1/(10**j)}', accuracy])\n",
    "            print(info)\n",
    "            best = np.vstack((best, info))\n",
    "\n",
    "max_row_index = np.argmax(best[:, 2])\n",
    "\n",
    "# Extract the row with the maximum value\n",
    "max_row = best[max_row_index, :]\n",
    "\n",
    "print(\"Row with the maximum value in column {}: {}\".format(2, max_row))\n"
   ]
  },
  {
   "cell_type": "code",
   "execution_count": 4,
   "metadata": {},
   "outputs": [
    {
     "name": "stdout",
     "output_type": "stream",
     "text": [
      "0.9027007029226785\n",
      "              precision    recall  f1-score   support\n",
      "\n",
      "           0       0.92      0.98      0.95      4764\n",
      "           1       0.67      0.36      0.47       642\n",
      "\n",
      "    accuracy                           0.90      5406\n",
      "   macro avg       0.79      0.67      0.71      5406\n",
      "weighted avg       0.89      0.90      0.89      5406\n",
      "\n"
     ]
    }
   ],
   "source": [
    "model = CatBoostClassifier(iterations=1000, devices='0:1', depth=5,        # Глубина деревьев\n",
    "                                    learning_rate=0.1,  # Скорость обучения\n",
    "                                    loss_function='Logloss',  # Функция потерь для задачи классификации\n",
    "                                    logging_level='Silent')\n",
    "model.fit(X_train_std, y_train)\n",
    "\n",
    "y_pred = model.predict(X_test_std)\n",
    "\n",
    "accuracy = accuracy_score(y_test, y_pred)\n",
    "report = classification_report(y_test, y_pred)\n",
    "print(accuracy)\n",
    "\n",
    "print(report)"
   ]
  },
  {
   "cell_type": "code",
   "execution_count": 5,
   "metadata": {},
   "outputs": [
    {
     "data": {
      "text/plain": [
       "array([[4647,  117],\n",
       "       [ 409,  233]], dtype=int64)"
      ]
     },
     "execution_count": 5,
     "metadata": {},
     "output_type": "execute_result"
    }
   ],
   "source": [
    "confusion_matrix(y_test, y_pred)\n"
   ]
  },
  {
   "cell_type": "markdown",
   "metadata": {},
   "source": [
    "sum(y_pred == 1)"
   ]
  },
  {
   "cell_type": "markdown",
   "metadata": {},
   "source": [
    "from sklearn.tree import DecisionTreeClassifier\n",
    "tree_classifier = DecisionTreeClassifier()\n",
    "tree_classifier.fit(X_train_std, y_train)\n",
    "\n",
    "# Make predictions\n",
    "tree_predictions = tree_classifier.predict(X_test_std)\n",
    "\n",
    "# Evaluate the model\n",
    "tree_accuracy = accuracy_score(y_test, tree_predictions)\n",
    "print(f\"Decision Tree Accuracy: {tree_accuracy}\")\n",
    "\n",
    "report = classification_report(y_test,  tree_predictions)\n",
    "print(report)\n",
    "confusion_matrix(y_test, tree_predictions)"
   ]
  },
  {
   "cell_type": "markdown",
   "metadata": {},
   "source": [
    "from sklearn.ensemble import RandomForestClassifier\n",
    "\n",
    "# Create and train a random forest classifier\n",
    "rf_classifier = RandomForestClassifier(n_estimators=100)\n",
    "rf_classifier.fit(X_train, y_train)\n",
    "\n",
    "# Make predictions\n",
    "rf_predictions = rf_classifier.predict(X_test)\n",
    "\n",
    "# Evaluate the model\n",
    "rf_accuracy = accuracy_score(y_test, rf_predictions)\n",
    "print(f\"Random Forest Accuracy: {rf_accuracy}\")\n",
    "report = classification_report(y_test, y_pred)\n",
    "print(report)\n",
    "confusion_matrix(y_test, y_pred)"
   ]
  },
  {
   "cell_type": "markdown",
   "metadata": {},
   "source": [
    "from sklearn.svm import SVC\n",
    "\n",
    "# Create and train an SVM classifier\n",
    "svm_classifier = SVC()\n",
    "svm_classifier.fit(X_train_std, y_train)\n",
    "\n",
    "# Make predictions\n",
    "svm_predictions = svm_classifier.predict(X_test_std)\n",
    "\n",
    "# Evaluate the model\n",
    "svm_accuracy = accuracy_score(y_test, svm_predictions)\n",
    "print(f\"SVM Accuracy: {svm_accuracy}\")\n",
    "report = classification_report(y_test, svm_predictions)\n",
    "print(report)\n",
    "confusion_matrix(y_test, svm_predictions)"
   ]
  },
  {
   "cell_type": "markdown",
   "metadata": {},
   "source": [
    "from sklearn.naive_bayes import GaussianNB\n",
    "\n",
    "\n",
    "    \n",
    "\n",
    "# Create and train a Gaussian Naive Bayes classifier\n",
    "nb_classifier = GaussianNB()\n",
    "nb_classifier.fit(X_train_std, y_train)\n",
    "\n",
    "# Make predictions\n",
    "nb_predictions = nb_classifier.predict(X_test_std)\n",
    "\n",
    "# Evaluate the model\n",
    "nb_accuracy = accuracy_score(y_test, nb_predictions)\n",
    "print(f\"Naive Bayes Accuracy: {nb_accuracy}\")\n",
    "report = classification_report(y_test, nb_predictions)\n",
    "print(report)\n",
    "confusion_matrix(y_test, nb_predictions)"
   ]
  },
  {
   "cell_type": "markdown",
   "metadata": {},
   "source": [
    "from sklearn.neighbors import KNeighborsClassifier\n",
    "\n",
    "# Create and train a KNN classifier with k=5 (you can adjust k)\n",
    "for i in range(1, 10):\n",
    "    knn_classifier = KNeighborsClassifier(n_neighbors=i)\n",
    "    knn_classifier.fit(X_train_std, y_train)\n",
    "\n",
    "    # Make predictions\n",
    "    knn_predictions = knn_classifier.predict(X_test_std)\n",
    "\n",
    "    # Evaluate the model\n",
    "    knn_accuracy = accuracy_score(y_test, knn_predictions)\n",
    "    print(f\"KNN Accuracy: {knn_accuracy}\")\n",
    "    report = classification_report(y_test, knn_predictions)\n",
    "    print(report)\n",
    "    confusion_matrix(y_test, knn_predictions)"
   ]
  },
  {
   "cell_type": "markdown",
   "metadata": {},
   "source": [
    "Row with the maximum value in column 2: ['Глубина 10' 'Скорость обучения 0.01' '0.9127774864534173']"
   ]
  },
  {
   "cell_type": "markdown",
   "metadata": {},
   "source": [
    "import numpy as np\n",
    "\n",
    "# Create an initial NumPy array\n",
    "arr = np.array([1, 2, 3])\n",
    "\n",
    "# Append a single element\n",
    "\n",
    "\n",
    "# Append multiple elements (as a list)\n",
    "new_elements = [5, 6, 7]\n",
    "arr = np.vstack((arr, new_elements))\n",
    "\n",
    "print(arr)"
   ]
  },
  {
   "cell_type": "markdown",
   "metadata": {},
   "source": [
    "train_data = lgb.Dataset(X_train_std, label=y_train)\n",
    "test_data = lgb.Dataset(X_test_std, label=y_test, reference=train_data)\n",
    "\n",
    "# Определяем параметры модели\n",
    "params = {\n",
    "    'objective': 'binary',  # для задачи бинарной классификации\n",
    "    'boosting_type': 'gbdt',\n",
    "    'metric': 'binary_logloss',  # метрика качества\n",
    "    'num_leaves': 50,\n",
    "    'learning_rate': 0.01,\n",
    "    'feature_fraction': 0.9\n",
    "}\n",
    "\n",
    "# Обучаем модель\n",
    "num_round = 1000  # количество итераций обучения\n",
    "bst = lgb.train(params, train_data, num_round, valid_sets=[test_data])\n",
    "\n",
    "# Предсказываем на тестовом наборе данных\n",
    "y_pred = bst.predict(X_test_std, num_iteration=bst.best_iteration)\n",
    "\n",
    "# Оцениваем качество модели\n",
    "y_pred_binary = np.round(y_pred)  # преобразуем вероятности в бинарные предсказания\n",
    "accuracy = accuracy_score(y_test, y_pred_binary)\n",
    "print(f'Accuracy: {accuracy}')\n",
    "print('Classification Report:')\n",
    "print(report)\n",
    "confusion_matrix(y_test, y_pred_binary)"
   ]
  },
  {
   "cell_type": "markdown",
   "metadata": {},
   "source": [
    "params = {\n",
    "    'objective': 'binary:logistic',  # для задачи бинарной классификации\n",
    "    'max_depth': 3,\n",
    "    'learning_rate': 0.1,\n",
    "    'n_estimators': 1000,\n",
    "    'eval_metric': 'logloss'\n",
    "}\n",
    "\n",
    "# Создаем объект DMatrix для данных\n",
    "train_data = xgb.DMatrix(X_train_std, label=y_train)\n",
    "test_data = xgb.DMatrix(X_test_std, label=y_test)\n",
    "\n",
    "# Обучаем модель с ранней остановкой (early stopping)\n",
    "watchlist = [(test_data, 'eval'), (train_data, 'train')]\n",
    "num_round = 1000  # большое количество итераций\n",
    "bst = xgb.train(params, train_data, num_round, evals=watchlist, early_stopping_rounds=10)\n",
    "\n",
    "# Предсказываем на тестовом наборе данных\n",
    "y_pred = bst.predict(test_data)\n",
    "\n",
    "# Оцениваем качество модели\n",
    "y_pred_binary = np.round(y_pred)  # преобразуем вероятности в бинарные предсказания\n",
    "accuracy = accuracy_score(y_test, y_pred_binary)\n",
    "print(f'Accuracy: {accuracy}')\n",
    "print('Classification Report:')\n",
    "print(report)\n",
    "confusion_matrix(y_test, y_pred_binary)"
   ]
  },
  {
   "cell_type": "markdown",
   "metadata": {},
   "source": [
    "y_test[y_test == 1].shape"
   ]
  },
  {
   "cell_type": "markdown",
   "metadata": {},
   "source": [
    "sum(y_pred == 1)"
   ]
  },
  {
   "cell_type": "markdown",
   "metadata": {},
   "source": [
    "for column, coef in zip(data.columns, lr.coef_[0]):\n",
    "    print(f'Важность признака {column} равна {coef}')\n"
   ]
  }
 ],
 "metadata": {
  "kernelspec": {
   "display_name": "Python 3",
   "language": "python",
   "name": "python3"
  },
  "language_info": {
   "codemirror_mode": {
    "name": "ipython",
    "version": 3
   },
   "file_extension": ".py",
   "mimetype": "text/x-python",
   "name": "python",
   "nbconvert_exporter": "python",
   "pygments_lexer": "ipython3",
   "version": "3.11.6"
  },
  "orig_nbformat": 4
 },
 "nbformat": 4,
 "nbformat_minor": 2
}
